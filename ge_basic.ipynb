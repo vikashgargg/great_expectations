{
 "cells": [
  {
   "cell_type": "code",
   "execution_count": 18,
   "id": "14c9c69f",
   "metadata": {},
   "outputs": [
    {
     "data": {
      "text/plain": [
       "'C:\\\\spark\\\\spark-3.0.3-bin-hadoop2.7'"
      ]
     },
     "execution_count": 18,
     "metadata": {},
     "output_type": "execute_result"
    }
   ],
   "source": [
    "import findspark\n",
    "findspark.init()\n",
    "findspark.find()"
   ]
  },
  {
   "cell_type": "code",
   "execution_count": 19,
   "id": "085e042e",
   "metadata": {},
   "outputs": [],
   "source": [
    "from pyspark.sql import SparkSession\n",
    "\n",
    "spark = SparkSession.builder.appName(\"value_change_between\").getOrCreate()"
   ]
  },
  {
   "cell_type": "code",
   "execution_count": 3,
   "id": "2e8f89e0",
   "metadata": {},
   "outputs": [
    {
     "name": "stdout",
     "output_type": "stream",
     "text": [
      "Requirement already satisfied: great_expectations==0.15.31 in c:\\users\\abhinav.anand\\anaconda3\\envs\\pysparkenv\\lib\\site-packages (0.15.31)\n",
      "Requirement already satisfied: marshmallow<4.0.0,>=3.7.1 in c:\\users\\abhinav.anand\\anaconda3\\envs\\pysparkenv\\lib\\site-packages (from great_expectations==0.15.31) (3.18.0)\n",
      "Requirement already satisfied: pyparsing>=2.4 in c:\\users\\abhinav.anand\\anaconda3\\envs\\pysparkenv\\lib\\site-packages (from great_expectations==0.15.31) (2.4.7)\n",
      "Requirement already satisfied: tzlocal>=1.2 in c:\\users\\abhinav.anand\\anaconda3\\envs\\pysparkenv\\lib\\site-packages (from great_expectations==0.15.31) (4.1)\n",
      "Requirement already satisfied: pytz>=2021.3 in c:\\users\\abhinav.anand\\anaconda3\\envs\\pysparkenv\\lib\\site-packages (from great_expectations==0.15.31) (2021.3)\n",
      "Requirement already satisfied: termcolor<2.1.0,>=1.1.0 in c:\\users\\abhinav.anand\\anaconda3\\envs\\pysparkenv\\lib\\site-packages (from great_expectations==0.15.31) (1.1.0)\n",
      "Requirement already satisfied: cryptography>=3.2 in c:\\users\\abhinav.anand\\anaconda3\\envs\\pysparkenv\\lib\\site-packages (from great_expectations==0.15.31) (3.4.8)\n",
      "Requirement already satisfied: ruamel.yaml<0.17.18,>=0.16 in c:\\users\\abhinav.anand\\anaconda3\\envs\\pysparkenv\\lib\\site-packages (from great_expectations==0.15.31) (0.17.17)\n",
      "Requirement already satisfied: scipy>=0.19.0 in c:\\users\\abhinav.anand\\anaconda3\\envs\\pysparkenv\\lib\\site-packages (from great_expectations==0.15.31) (1.7.1)\n",
      "Requirement already satisfied: Ipython>=7.16.3 in c:\\users\\abhinav.anand\\anaconda3\\envs\\pysparkenv\\lib\\site-packages (from great_expectations==0.15.31) (7.29.0)\n",
      "Requirement already satisfied: notebook>=6.4.10 in c:\\users\\abhinav.anand\\anaconda3\\envs\\pysparkenv\\lib\\site-packages (from great_expectations==0.15.31) (6.5.2)\n",
      "Requirement already satisfied: requests>=2.20 in c:\\users\\abhinav.anand\\anaconda3\\envs\\pysparkenv\\lib\\site-packages (from great_expectations==0.15.31) (2.26.0)\n",
      "Requirement already satisfied: urllib3<1.27,>=1.25.4 in c:\\users\\abhinav.anand\\anaconda3\\envs\\pysparkenv\\lib\\site-packages (from great_expectations==0.15.31) (1.26.7)\n",
      "Requirement already satisfied: colorama>=0.4.3 in c:\\users\\abhinav.anand\\anaconda3\\envs\\pysparkenv\\lib\\site-packages (from great_expectations==0.15.31) (0.4.4)\n",
      "Requirement already satisfied: makefun<2,>=1.7.0 in c:\\users\\abhinav.anand\\anaconda3\\envs\\pysparkenv\\lib\\site-packages (from great_expectations==0.15.31) (1.15.0)\n",
      "Requirement already satisfied: jsonpatch>=1.22 in c:\\users\\abhinav.anand\\anaconda3\\envs\\pysparkenv\\lib\\site-packages (from great_expectations==0.15.31) (1.32)\n",
      "Requirement already satisfied: tqdm>=4.59.0 in c:\\users\\abhinav.anand\\anaconda3\\envs\\pysparkenv\\lib\\site-packages (from great_expectations==0.15.31) (4.62.3)\n",
      "Requirement already satisfied: Click>=7.1.2 in c:\\users\\abhinav.anand\\anaconda3\\envs\\pysparkenv\\lib\\site-packages (from great_expectations==0.15.31) (8.0.3)\n",
      "Requirement already satisfied: importlib-metadata>=1.7.0 in c:\\users\\abhinav.anand\\anaconda3\\envs\\pysparkenv\\lib\\site-packages (from great_expectations==0.15.31) (4.8.1)\n",
      "Requirement already satisfied: ipywidgets>=7.5.1 in c:\\users\\abhinav.anand\\anaconda3\\envs\\pysparkenv\\lib\\site-packages (from great_expectations==0.15.31) (7.6.5)\n",
      "Requirement already satisfied: altair<5,>=4.0.0 in c:\\users\\abhinav.anand\\anaconda3\\envs\\pysparkenv\\lib\\site-packages (from great_expectations==0.15.31) (4.2.0)\n",
      "Requirement already satisfied: numpy>=1.18.5 in c:\\users\\abhinav.anand\\anaconda3\\envs\\pysparkenv\\lib\\site-packages (from great_expectations==0.15.31) (1.20.3)\n",
      "Requirement already satisfied: typing-extensions>=3.10.0.0 in c:\\users\\abhinav.anand\\anaconda3\\envs\\pysparkenv\\lib\\site-packages (from great_expectations==0.15.31) (3.10.0.2)\n",
      "Requirement already satisfied: jinja2>=2.10 in c:\\users\\abhinav.anand\\anaconda3\\envs\\pysparkenv\\lib\\site-packages (from great_expectations==0.15.31) (3.0.3)\n",
      "Requirement already satisfied: nbformat>=5.0 in c:\\users\\abhinav.anand\\anaconda3\\envs\\pysparkenv\\lib\\site-packages (from great_expectations==0.15.31) (5.7.0)\n",
      "Requirement already satisfied: pandas>=1.1.0 in c:\\users\\abhinav.anand\\anaconda3\\envs\\pysparkenv\\lib\\site-packages (from great_expectations==0.15.31) (1.3.4)\n",
      "Requirement already satisfied: mistune>=0.8.4 in c:\\users\\abhinav.anand\\anaconda3\\envs\\pysparkenv\\lib\\site-packages (from great_expectations==0.15.31) (0.8.4)\n",
      "Requirement already satisfied: jsonschema<=4.7.2,>=2.5.1 in c:\\users\\abhinav.anand\\anaconda3\\envs\\pysparkenv\\lib\\site-packages (from great_expectations==0.15.31) (3.2.0)\n",
      "Requirement already satisfied: python-dateutil>=2.8.1 in c:\\users\\abhinav.anand\\anaconda3\\envs\\pysparkenv\\lib\\site-packages (from great_expectations==0.15.31) (2.8.2)\n",
      "Requirement already satisfied: packaging in c:\\users\\abhinav.anand\\anaconda3\\envs\\pysparkenv\\lib\\site-packages (from great_expectations==0.15.31) (21.0)\n",
      "Requirement already satisfied: entrypoints in c:\\users\\abhinav.anand\\anaconda3\\envs\\pysparkenv\\lib\\site-packages (from altair<5,>=4.0.0->great_expectations==0.15.31) (0.3)\n",
      "Requirement already satisfied: toolz in c:\\users\\abhinav.anand\\anaconda3\\envs\\pysparkenv\\lib\\site-packages (from altair<5,>=4.0.0->great_expectations==0.15.31) (0.11.1)\n",
      "Requirement already satisfied: cffi>=1.12 in c:\\users\\abhinav.anand\\anaconda3\\envs\\pysparkenv\\lib\\site-packages (from cryptography>=3.2->great_expectations==0.15.31) (1.14.6)\n",
      "Requirement already satisfied: pycparser in c:\\users\\abhinav.anand\\anaconda3\\envs\\pysparkenv\\lib\\site-packages (from cffi>=1.12->cryptography>=3.2->great_expectations==0.15.31) (2.20)\n",
      "Requirement already satisfied: zipp>=0.5 in c:\\users\\abhinav.anand\\anaconda3\\envs\\pysparkenv\\lib\\site-packages (from importlib-metadata>=1.7.0->great_expectations==0.15.31) (3.6.0)\n",
      "Requirement already satisfied: decorator in c:\\users\\abhinav.anand\\anaconda3\\envs\\pysparkenv\\lib\\site-packages (from Ipython>=7.16.3->great_expectations==0.15.31) (5.1.0)\n",
      "Requirement already satisfied: prompt-toolkit!=3.0.0,!=3.0.1,<3.1.0,>=2.0.0 in c:\\users\\abhinav.anand\\anaconda3\\envs\\pysparkenv\\lib\\site-packages (from Ipython>=7.16.3->great_expectations==0.15.31) (3.0.20)\n",
      "Requirement already satisfied: matplotlib-inline in c:\\users\\abhinav.anand\\anaconda3\\envs\\pysparkenv\\lib\\site-packages (from Ipython>=7.16.3->great_expectations==0.15.31) (0.1.2)\n",
      "Requirement already satisfied: pickleshare in c:\\users\\abhinav.anand\\anaconda3\\envs\\pysparkenv\\lib\\site-packages (from Ipython>=7.16.3->great_expectations==0.15.31) (0.7.5)\n",
      "Requirement already satisfied: pygments in c:\\users\\abhinav.anand\\anaconda3\\envs\\pysparkenv\\lib\\site-packages (from Ipython>=7.16.3->great_expectations==0.15.31) (2.10.0)\n",
      "Requirement already satisfied: backcall in c:\\users\\abhinav.anand\\anaconda3\\envs\\pysparkenv\\lib\\site-packages (from Ipython>=7.16.3->great_expectations==0.15.31) (0.2.0)\n",
      "Requirement already satisfied: traitlets>=4.2 in c:\\users\\abhinav.anand\\anaconda3\\envs\\pysparkenv\\lib\\site-packages (from Ipython>=7.16.3->great_expectations==0.15.31) (5.1.0)\n",
      "Requirement already satisfied: setuptools>=18.5 in c:\\users\\abhinav.anand\\anaconda3\\envs\\pysparkenv\\lib\\site-packages (from Ipython>=7.16.3->great_expectations==0.15.31) (58.0.4)\n",
      "Requirement already satisfied: jedi>=0.16 in c:\\users\\abhinav.anand\\anaconda3\\envs\\pysparkenv\\lib\\site-packages (from Ipython>=7.16.3->great_expectations==0.15.31) (0.18.0)\n",
      "Requirement already satisfied: ipython-genutils~=0.2.0 in c:\\users\\abhinav.anand\\anaconda3\\envs\\pysparkenv\\lib\\site-packages (from ipywidgets>=7.5.1->great_expectations==0.15.31) (0.2.0)\n",
      "Requirement already satisfied: ipykernel>=4.5.1 in c:\\users\\abhinav.anand\\anaconda3\\envs\\pysparkenv\\lib\\site-packages (from ipywidgets>=7.5.1->great_expectations==0.15.31) (6.4.1)\n",
      "Requirement already satisfied: widgetsnbextension~=3.5.0 in c:\\users\\abhinav.anand\\anaconda3\\envs\\pysparkenv\\lib\\site-packages (from ipywidgets>=7.5.1->great_expectations==0.15.31) (3.5.1)\n",
      "Requirement already satisfied: jupyterlab-widgets>=1.0.0 in c:\\users\\abhinav.anand\\anaconda3\\envs\\pysparkenv\\lib\\site-packages (from ipywidgets>=7.5.1->great_expectations==0.15.31) (1.0.0)\n",
      "Requirement already satisfied: tornado<7.0,>=4.2 in c:\\users\\abhinav.anand\\anaconda3\\envs\\pysparkenv\\lib\\site-packages (from ipykernel>=4.5.1->ipywidgets>=7.5.1->great_expectations==0.15.31) (6.1)\n",
      "Requirement already satisfied: jupyter-client<8.0 in c:\\users\\abhinav.anand\\anaconda3\\envs\\pysparkenv\\lib\\site-packages (from ipykernel>=4.5.1->ipywidgets>=7.5.1->great_expectations==0.15.31) (6.1.12)\n",
      "Requirement already satisfied: debugpy<2.0,>=1.0.0 in c:\\users\\abhinav.anand\\anaconda3\\envs\\pysparkenv\\lib\\site-packages (from ipykernel>=4.5.1->ipywidgets>=7.5.1->great_expectations==0.15.31) (1.4.1)\n",
      "Requirement already satisfied: parso<0.9.0,>=0.8.0 in c:\\users\\abhinav.anand\\anaconda3\\envs\\pysparkenv\\lib\\site-packages (from jedi>=0.16->Ipython>=7.16.3->great_expectations==0.15.31) (0.8.2)\n",
      "Requirement already satisfied: MarkupSafe>=2.0 in c:\\users\\abhinav.anand\\anaconda3\\envs\\pysparkenv\\lib\\site-packages (from jinja2>=2.10->great_expectations==0.15.31) (2.1.1)\n",
      "Requirement already satisfied: jsonpointer>=1.9 in c:\\users\\abhinav.anand\\anaconda3\\envs\\pysparkenv\\lib\\site-packages (from jsonpatch>=1.22->great_expectations==0.15.31) (2.2)\n",
      "Requirement already satisfied: pyrsistent>=0.14.0 in c:\\users\\abhinav.anand\\anaconda3\\envs\\pysparkenv\\lib\\site-packages (from jsonschema<=4.7.2,>=2.5.1->great_expectations==0.15.31) (0.18.0)\n",
      "Requirement already satisfied: six>=1.11.0 in c:\\users\\abhinav.anand\\anaconda3\\envs\\pysparkenv\\lib\\site-packages (from jsonschema<=4.7.2,>=2.5.1->great_expectations==0.15.31) (1.16.0)\n",
      "Requirement already satisfied: attrs>=17.4.0 in c:\\users\\abhinav.anand\\anaconda3\\envs\\pysparkenv\\lib\\site-packages (from jsonschema<=4.7.2,>=2.5.1->great_expectations==0.15.31) (21.2.0)\n",
      "Requirement already satisfied: pyzmq>=13 in c:\\users\\abhinav.anand\\anaconda3\\envs\\pysparkenv\\lib\\site-packages (from jupyter-client<8.0->ipykernel>=4.5.1->ipywidgets>=7.5.1->great_expectations==0.15.31) (22.2.1)\n",
      "Requirement already satisfied: jupyter-core>=4.6.0 in c:\\users\\abhinav.anand\\anaconda3\\envs\\pysparkenv\\lib\\site-packages (from jupyter-client<8.0->ipykernel>=4.5.1->ipywidgets>=7.5.1->great_expectations==0.15.31) (4.8.1)\n",
      "Requirement already satisfied: pywin32>=1.0 in c:\\users\\abhinav.anand\\anaconda3\\envs\\pysparkenv\\lib\\site-packages (from jupyter-core>=4.6.0->jupyter-client<8.0->ipykernel>=4.5.1->ipywidgets>=7.5.1->great_expectations==0.15.31) (225)\n",
      "Requirement already satisfied: fastjsonschema in c:\\users\\abhinav.anand\\anaconda3\\envs\\pysparkenv\\lib\\site-packages (from nbformat>=5.0->great_expectations==0.15.31) (2.16.2)\n",
      "Requirement already satisfied: prometheus-client in c:\\users\\abhinav.anand\\anaconda3\\envs\\pysparkenv\\lib\\site-packages (from notebook>=6.4.10->great_expectations==0.15.31) (0.11.0)\n",
      "Requirement already satisfied: nbclassic>=0.4.7 in c:\\users\\abhinav.anand\\anaconda3\\envs\\pysparkenv\\lib\\site-packages (from notebook>=6.4.10->great_expectations==0.15.31) (0.4.8)\n",
      "Requirement already satisfied: Send2Trash>=1.8.0 in c:\\users\\abhinav.anand\\anaconda3\\envs\\pysparkenv\\lib\\site-packages (from notebook>=6.4.10->great_expectations==0.15.31) (1.8.0)\n",
      "Requirement already satisfied: nbconvert>=5 in c:\\users\\abhinav.anand\\anaconda3\\envs\\pysparkenv\\lib\\site-packages (from notebook>=6.4.10->great_expectations==0.15.31) (6.5.4)\n"
     ]
    },
    {
     "name": "stdout",
     "output_type": "stream",
     "text": [
      "Requirement already satisfied: terminado>=0.8.3 in c:\\users\\abhinav.anand\\anaconda3\\envs\\pysparkenv\\lib\\site-packages (from notebook>=6.4.10->great_expectations==0.15.31) (0.9.4)\n",
      "Requirement already satisfied: argon2-cffi in c:\\users\\abhinav.anand\\anaconda3\\envs\\pysparkenv\\lib\\site-packages (from notebook>=6.4.10->great_expectations==0.15.31) (20.1.0)\n",
      "Requirement already satisfied: nest-asyncio>=1.5 in c:\\users\\abhinav.anand\\anaconda3\\envs\\pysparkenv\\lib\\site-packages (from notebook>=6.4.10->great_expectations==0.15.31) (1.5.1)\n",
      "Requirement already satisfied: jupyter-server>=1.8 in c:\\users\\abhinav.anand\\anaconda3\\envs\\pysparkenv\\lib\\site-packages (from nbclassic>=0.4.7->notebook>=6.4.10->great_expectations==0.15.31) (1.21.0)\n",
      "Requirement already satisfied: notebook-shim>=0.1.0 in c:\\users\\abhinav.anand\\anaconda3\\envs\\pysparkenv\\lib\\site-packages (from nbclassic>=0.4.7->notebook>=6.4.10->great_expectations==0.15.31) (0.2.2)\n",
      "Requirement already satisfied: websocket-client in c:\\users\\abhinav.anand\\anaconda3\\envs\\pysparkenv\\lib\\site-packages (from jupyter-server>=1.8->nbclassic>=0.4.7->notebook>=6.4.10->great_expectations==0.15.31) (1.4.2)\n",
      "Requirement already satisfied: anyio<4,>=3.1.0 in c:\\users\\abhinav.anand\\anaconda3\\envs\\pysparkenv\\lib\\site-packages (from jupyter-server>=1.8->nbclassic>=0.4.7->notebook>=6.4.10->great_expectations==0.15.31) (3.6.2)\n",
      "Requirement already satisfied: pywinpty in c:\\users\\abhinav.anand\\anaconda3\\envs\\pysparkenv\\lib\\site-packages (from jupyter-server>=1.8->nbclassic>=0.4.7->notebook>=6.4.10->great_expectations==0.15.31) (0.5.7)\n",
      "Requirement already satisfied: sniffio>=1.1 in c:\\users\\abhinav.anand\\anaconda3\\envs\\pysparkenv\\lib\\site-packages (from anyio<4,>=3.1.0->jupyter-server>=1.8->nbclassic>=0.4.7->notebook>=6.4.10->great_expectations==0.15.31) (1.2.0)\n",
      "Requirement already satisfied: idna>=2.8 in c:\\users\\abhinav.anand\\anaconda3\\envs\\pysparkenv\\lib\\site-packages (from anyio<4,>=3.1.0->jupyter-server>=1.8->nbclassic>=0.4.7->notebook>=6.4.10->great_expectations==0.15.31) (3.2)\n",
      "Requirement already satisfied: bleach in c:\\users\\abhinav.anand\\anaconda3\\envs\\pysparkenv\\lib\\site-packages (from nbconvert>=5->notebook>=6.4.10->great_expectations==0.15.31) (4.0.0)\n",
      "Requirement already satisfied: defusedxml in c:\\users\\abhinav.anand\\anaconda3\\envs\\pysparkenv\\lib\\site-packages (from nbconvert>=5->notebook>=6.4.10->great_expectations==0.15.31) (0.7.1)\n",
      "Requirement already satisfied: tinycss2 in c:\\users\\abhinav.anand\\anaconda3\\envs\\pysparkenv\\lib\\site-packages (from nbconvert>=5->notebook>=6.4.10->great_expectations==0.15.31) (1.2.1)\n",
      "Requirement already satisfied: pandocfilters>=1.4.1 in c:\\users\\abhinav.anand\\anaconda3\\envs\\pysparkenv\\lib\\site-packages (from nbconvert>=5->notebook>=6.4.10->great_expectations==0.15.31) (1.4.3)\n",
      "Requirement already satisfied: jupyterlab-pygments in c:\\users\\abhinav.anand\\anaconda3\\envs\\pysparkenv\\lib\\site-packages (from nbconvert>=5->notebook>=6.4.10->great_expectations==0.15.31) (0.1.2)\n",
      "Requirement already satisfied: lxml in c:\\users\\abhinav.anand\\anaconda3\\envs\\pysparkenv\\lib\\site-packages (from nbconvert>=5->notebook>=6.4.10->great_expectations==0.15.31) (4.6.3)\n",
      "Requirement already satisfied: nbclient>=0.5.0 in c:\\users\\abhinav.anand\\anaconda3\\envs\\pysparkenv\\lib\\site-packages (from nbconvert>=5->notebook>=6.4.10->great_expectations==0.15.31) (0.5.3)\n",
      "Requirement already satisfied: beautifulsoup4 in c:\\users\\abhinav.anand\\anaconda3\\envs\\pysparkenv\\lib\\site-packages (from nbconvert>=5->notebook>=6.4.10->great_expectations==0.15.31) (4.10.0)\n",
      "Requirement already satisfied: async-generator in c:\\users\\abhinav.anand\\anaconda3\\envs\\pysparkenv\\lib\\site-packages (from nbclient>=0.5.0->nbconvert>=5->notebook>=6.4.10->great_expectations==0.15.31) (1.10)\n",
      "Requirement already satisfied: wcwidth in c:\\users\\abhinav.anand\\anaconda3\\envs\\pysparkenv\\lib\\site-packages (from prompt-toolkit!=3.0.0,!=3.0.1,<3.1.0,>=2.0.0->Ipython>=7.16.3->great_expectations==0.15.31) (0.2.5)\n",
      "Requirement already satisfied: charset-normalizer~=2.0.0 in c:\\users\\abhinav.anand\\anaconda3\\envs\\pysparkenv\\lib\\site-packages (from requests>=2.20->great_expectations==0.15.31) (2.0.4)\n",
      "Requirement already satisfied: certifi>=2017.4.17 in c:\\users\\abhinav.anand\\anaconda3\\envs\\pysparkenv\\lib\\site-packages (from requests>=2.20->great_expectations==0.15.31) (2021.10.8)\n",
      "Requirement already satisfied: ruamel.yaml.clib>=0.1.2 in c:\\users\\abhinav.anand\\anaconda3\\envs\\pysparkenv\\lib\\site-packages (from ruamel.yaml<0.17.18,>=0.16->great_expectations==0.15.31) (0.2.6)\n",
      "Requirement already satisfied: pytz-deprecation-shim in c:\\users\\abhinav.anand\\anaconda3\\envs\\pysparkenv\\lib\\site-packages (from tzlocal>=1.2->great_expectations==0.15.31) (0.1.0.post0)\n",
      "Requirement already satisfied: tzdata in c:\\users\\abhinav.anand\\anaconda3\\envs\\pysparkenv\\lib\\site-packages (from tzlocal>=1.2->great_expectations==0.15.31) (2021.5)\n",
      "Requirement already satisfied: soupsieve>1.2 in c:\\users\\abhinav.anand\\anaconda3\\envs\\pysparkenv\\lib\\site-packages (from beautifulsoup4->nbconvert>=5->notebook>=6.4.10->great_expectations==0.15.31) (2.2.1)\n",
      "Requirement already satisfied: webencodings in c:\\users\\abhinav.anand\\anaconda3\\envs\\pysparkenv\\lib\\site-packages (from bleach->nbconvert>=5->notebook>=6.4.10->great_expectations==0.15.31) (0.5.1)\n"
     ]
    }
   ],
   "source": [
    "!pip install great_expectations==0.15.31"
   ]
  },
  {
   "cell_type": "code",
   "execution_count": 20,
   "id": "4671430c",
   "metadata": {},
   "outputs": [],
   "source": [
    "import datetime\n",
    " \n",
    "import pandas as pd\n",
    "from ruamel import yaml\n",
    " \n",
    "from great_expectations.core.batch import RuntimeBatchRequest\n",
    "from great_expectations.data_context import BaseDataContext\n",
    "from great_expectations.data_context.types.base import (\n",
    "    DataContextConfig,\n",
    "    FilesystemStoreBackendDefaults,\n",
    ")\n",
    " \n",
    "root_directory = r\"C:\\Users\\abhinav.anand\\Desktop\\custom_ge\"\n",
    "from great_expectations import *"
   ]
  },
  {
   "cell_type": "code",
   "execution_count": 21,
   "id": "39013c91",
   "metadata": {},
   "outputs": [],
   "source": [
    "data_context_config = DataContextConfig(\n",
    "    store_backend_defaults=FilesystemStoreBackendDefaults(\n",
    "        root_directory=root_directory\n",
    "    ),\n",
    ")\n",
    "context = BaseDataContext(project_config=data_context_config)"
   ]
  },
  {
   "cell_type": "code",
   "execution_count": 22,
   "id": "10a051e3",
   "metadata": {},
   "outputs": [
    {
     "name": "stdout",
     "output_type": "stream",
     "text": [
      "+-----------+-------+--------------------+-------+--------------------+-----+----------+--------+--------+-------+-----+\n",
      "|  spcl_char|no_char|               email|decimal|                 url| test|sample_col|test_int|store_id|revenue|check|\n",
      "+-----------+-------+--------------------+-------+--------------------+-----+----------+--------+--------+-------+-----+\n",
      "|r#st@et%^(=|   4785|abc.def@mail-arch...|   2.48|http://www.exampl...|  487|    215478|    4785|     715|   7800|    1|\n",
      "|      ahbjs| 478stc|abc.def@mail#arch...|  2.147|http://www.exampl...|  487|   gfds784|     478|     715|   9500|    2|\n",
      "|  r&cfr$5{>|gfds784|    abc.def@mail.org|   1.14|http://www.exampl...|     |       247|   78434|     715|   5100|    3|\n",
      "|     sample| 215478|        abc.def@mail|  47.14|www.example.com/f...|  487|        70|  215478|     715|   5200|    4|\n",
      "|     sample| 215478|        abc.def@mail|  12.11|www.example.com/f...|  487|        76|  215478|     615|   6300|    5|\n",
      "|     sample| 215478|        abc.def@mail|       |www.example.com/f...|  487|      4586|  215478|     615|   1300|    6|\n",
      "|     sample| 215478|        abc.def@mail| 14.187|www.example.com/f...|  487|        52|  215478|     635|   2100|    7|\n",
      "|     sample| 215478|        abc.def@mail|       |www.example.com/f...|  487|       568|  215478|     715|   8400|    8|\n",
      "|     sample| 215478|        abc.def@mail|       |www.example.com/f...|47.14|         5|  215478|     635|   5000|    9|\n",
      "|     sample| 215478|        abc.def@mail| 14.178|www.example.com/f...| 124a|       458|  215478|     635|   1500|   10|\n",
      "|     sample| 215478|        abc.def@mail|    abc|www.example.com/f...| acge|        45|  215478|     635|   6000|   11|\n",
      "|     sample| 215478|        abc.def@mail| 123abc|www.example.com/f...|2.147|        48|  215478|     715|   1547|   12|\n",
      "|     sample| 215478|        abc.def@mail|    127|www.example.com/f...|4.178|        56|  215478|     635|   6541|   13|\n",
      "|     sample| 215478|        abc.def@mail|   2.14|www.example.com/f...| null|      null|       6|     635|   5487|   14|\n",
      "|     sample| 215478|        abc.def@mail|  2.144|www.example.com/f...| null|      null|       4|     635|   5487|   15|\n",
      "|       null|   null|                null|   null|                null| null|      null|       4|     715|   5487|   16|\n",
      "+-----------+-------+--------------------+-------+--------------------+-----+----------+--------+--------+-------+-----+\n",
      "\n"
     ]
    }
   ],
   "source": [
    "path = \"C:/Users/abhinav.anand/Desktop/custom_ge/tables/\"\n",
    "df = spark.read.format(\"csv\").options(header = \"true\",inferschema = \"true\", sep=\",\",quote=\"\\\"\",escape=\"\\\"\").load(path+\"sample_data.csv\")\n",
    "df.show()"
   ]
  },
  {
   "cell_type": "code",
   "execution_count": 23,
   "id": "825f8a46",
   "metadata": {},
   "outputs": [
    {
     "name": "stdout",
     "output_type": "stream",
     "text": [
      "Attempting to instantiate class from config...\n",
      "\tInstantiating as a Datasource, since class_name is Datasource\n",
      "\tSuccessfully instantiated Datasource\n",
      "\n",
      "\n",
      "ExecutionEngine class name: SparkDFExecutionEngine\n",
      "Data Connectors:\n",
      "\tinsert_your_data_connector_name_here:RuntimeDataConnector\n",
      "\n",
      "\tAvailable data_asset_names (0 of 0):\n",
      "\t\tNote : RuntimeDataConnector will not have data_asset_names until they are passed in through RuntimeBatchRequest\n",
      "\n",
      "\tUnmatched data_references (0 of 0): []\n",
      "\n"
     ]
    }
   ],
   "source": [
    "my_spark_datasource_config = {\n",
    "    \"name\": \"insert_your_datasource_name_here\",\n",
    "    \"class_name\": \"Datasource\",\n",
    "    \"execution_engine\": {\"class_name\": \"SparkDFExecutionEngine\"},\n",
    "    \"data_connectors\": {\n",
    "        \"insert_your_data_connector_name_here\": {\n",
    "            \"module_name\": \"great_expectations.datasource.data_connector\",\n",
    "            \"class_name\": \"RuntimeDataConnector\",\n",
    "            \"batch_identifiers\": [\n",
    "                \"some_key_maybe_pipeline_stage\",\n",
    "                \"some_other_key_maybe_run_id\",\n",
    "            ],\n",
    "        }\n",
    "    },\n",
    "}\n",
    " \n",
    "context.test_yaml_config(yaml.dump(my_spark_datasource_config))\n",
    " \n",
    "context.add_datasource(**my_spark_datasource_config)\n",
    " \n",
    "batch_request = RuntimeBatchRequest(\n",
    "    datasource_name=\"insert_your_datasource_name_here\",\n",
    "    data_connector_name=\"insert_your_data_connector_name_here\",\n",
    "    data_asset_name=\"<YOUR_MEANGINGFUL_NAME>\",  # This can be anything that identifies this data_asset for you\n",
    "    batch_identifiers={\n",
    "        \"some_key_maybe_pipeline_stage\": \"prod\",\n",
    "        \"some_other_key_maybe_run_id\": f\"my_run_name_{datetime.date.today().strftime('%Y%m%d')}\",\n",
    "    },\n",
    "    runtime_parameters={\"batch_data\": df},  # Your dataframe goes here\n",
    ")\n",
    " \n",
    "expectation_suite_name = \"insert_your_expectation_suite_name_here\"\n",
    "context.create_expectation_suite(\n",
    "    expectation_suite_name=expectation_suite_name, overwrite_existing=True\n",
    ")\n",
    "validator = context.get_validator(\n",
    "    batch_request=batch_request,\n",
    "    expectation_suite_name=expectation_suite_name,\n",
    ")"
   ]
  },
  {
   "cell_type": "code",
   "execution_count": 9,
   "id": "d705cb96",
   "metadata": {},
   "outputs": [
    {
     "data": {
      "application/vnd.jupyter.widget-view+json": {
       "model_id": "03ec085479ec49e8bb19a1f7c750a40f",
       "version_major": 2,
       "version_minor": 0
      },
      "text/plain": [
       "Calculating Metrics:   0%|          | 0/9 [00:00<?, ?it/s]"
      ]
     },
     "metadata": {},
     "output_type": "display_data"
    },
    {
     "data": {
      "application/vnd.jupyter.widget-view+json": {
       "model_id": "51beecd840864cf7806381182110eb77",
       "version_major": 2,
       "version_minor": 0
      },
      "text/plain": [
       "Calculating Metrics:   0%|          | 0/9 [00:00<?, ?it/s]"
      ]
     },
     "metadata": {},
     "output_type": "display_data"
    },
    {
     "data": {
      "application/vnd.jupyter.widget-view+json": {
       "model_id": "949758bbeef04dbf92c1c68074da46d9",
       "version_major": 2,
       "version_minor": 0
      },
      "text/plain": [
       "Calculating Metrics:   0%|          | 0/9 [00:00<?, ?it/s]"
      ]
     },
     "metadata": {},
     "output_type": "display_data"
    },
    {
     "data": {
      "application/vnd.jupyter.widget-view+json": {
       "model_id": "7f345bff29db4fbb8639e477f55afd88",
       "version_major": 2,
       "version_minor": 0
      },
      "text/plain": [
       "Calculating Metrics:   0%|          | 0/9 [00:00<?, ?it/s]"
      ]
     },
     "metadata": {},
     "output_type": "display_data"
    },
    {
     "name": "stdout",
     "output_type": "stream",
     "text": [
      "Traceback (most recent call last):\n",
      "  File \"C:\\Users\\abhinav.anand\\Anaconda3\\envs\\pysparkenv\\lib\\site-packages\\great_expectations\\self_check\\util.py\", line 2774, in evaluate_json_test_v3_api\n",
      "    check_json_test_result(\n",
      "  File \"C:\\Users\\abhinav.anand\\Anaconda3\\envs\\pysparkenv\\lib\\site-packages\\great_expectations\\self_check\\util.py\", line 2941, in check_json_test_result\n",
      "    assert result[\"result\"][\"unexpected_list\"] == value, (\n",
      "AssertionError: expected ['aaaa@a123.a', 'aaaa@a123.d', 'aaaa@a123.e'] but got ['@a123.com', '@a123.eu', '@a123.io']\n",
      "\n"
     ]
    },
    {
     "data": {
      "application/vnd.jupyter.widget-view+json": {
       "model_id": "2ebda5188e8b4cfdb452360100dd4a32",
       "version_major": 2,
       "version_minor": 0
      },
      "text/plain": [
       "Calculating Metrics:   0%|          | 0/9 [00:00<?, ?it/s]"
      ]
     },
     "metadata": {},
     "output_type": "display_data"
    },
    {
     "data": {
      "application/vnd.jupyter.widget-view+json": {
       "model_id": "3dd7f4fc7574418ca272fe3e1ad05037",
       "version_major": 2,
       "version_minor": 0
      },
      "text/plain": [
       "Calculating Metrics:   0%|          | 0/9 [00:00<?, ?it/s]"
      ]
     },
     "metadata": {},
     "output_type": "display_data"
    },
    {
     "data": {
      "application/vnd.jupyter.widget-view+json": {
       "model_id": "15660b098937475ca3b730601f14bb48",
       "version_major": 2,
       "version_minor": 0
      },
      "text/plain": [
       "Calculating Metrics:   0%|          | 0/9 [00:00<?, ?it/s]"
      ]
     },
     "metadata": {},
     "output_type": "display_data"
    },
    {
     "name": "stdout",
     "output_type": "stream",
     "text": [
      "Traceback (most recent call last):\n",
      "  File \"C:\\Users\\abhinav.anand\\Anaconda3\\envs\\pysparkenv\\lib\\site-packages\\great_expectations\\self_check\\util.py\", line 2774, in evaluate_json_test_v3_api\n",
      "    check_json_test_result(\n",
      "  File \"C:\\Users\\abhinav.anand\\Anaconda3\\envs\\pysparkenv\\lib\\site-packages\\great_expectations\\self_check\\util.py\", line 2878, in check_json_test_result\n",
      "    assert result[\"success\"] == value, f\"{result['success']} != {value}\"\n",
      "AssertionError: False != True\n",
      "\n"
     ]
    },
    {
     "data": {
      "application/vnd.jupyter.widget-view+json": {
       "model_id": "2880411e0e5645af898cadaa99138d45",
       "version_major": 2,
       "version_minor": 0
      },
      "text/plain": [
       "Calculating Metrics:   0%|          | 0/9 [00:00<?, ?it/s]"
      ]
     },
     "metadata": {},
     "output_type": "display_data"
    },
    {
     "data": {
      "application/vnd.jupyter.widget-view+json": {
       "model_id": "ccb17c948cc543eb91d0d97659bbac08",
       "version_major": 2,
       "version_minor": 0
      },
      "text/plain": [
       "Calculating Metrics:   0%|          | 0/11 [00:00<?, ?it/s]"
      ]
     },
     "metadata": {},
     "output_type": "display_data"
    },
    {
     "data": {
      "application/vnd.jupyter.widget-view+json": {
       "model_id": "44ea8e1b6e9e425bbd503af629251d81",
       "version_major": 2,
       "version_minor": 0
      },
      "text/plain": [
       "Calculating Metrics:   0%|          | 0/11 [00:00<?, ?it/s]"
      ]
     },
     "metadata": {},
     "output_type": "display_data"
    },
    {
     "data": {
      "application/vnd.jupyter.widget-view+json": {
       "model_id": "ec4aaec059884defabef96b58100b34f",
       "version_major": 2,
       "version_minor": 0
      },
      "text/plain": [
       "Calculating Metrics:   0%|          | 0/11 [00:00<?, ?it/s]"
      ]
     },
     "metadata": {},
     "output_type": "display_data"
    },
    {
     "data": {
      "application/vnd.jupyter.widget-view+json": {
       "model_id": "a5db0570a992483ca41cc051f3ec9f05",
       "version_major": 2,
       "version_minor": 0
      },
      "text/plain": [
       "Calculating Metrics:   0%|          | 0/11 [00:00<?, ?it/s]"
      ]
     },
     "metadata": {},
     "output_type": "display_data"
    },
    {
     "name": "stdout",
     "output_type": "stream",
     "text": [
      "Traceback (most recent call last):\n",
      "  File \"C:\\Users\\abhinav.anand\\Anaconda3\\envs\\pysparkenv\\lib\\site-packages\\great_expectations\\self_check\\util.py\", line 2774, in evaluate_json_test_v3_api\n",
      "    check_json_test_result(\n",
      "  File \"C:\\Users\\abhinav.anand\\Anaconda3\\envs\\pysparkenv\\lib\\site-packages\\great_expectations\\self_check\\util.py\", line 2941, in check_json_test_result\n",
      "    assert result[\"result\"][\"unexpected_list\"] == value, (\n",
      "AssertionError: expected ['aaaa@a123.a', 'aaaa@a123.d', 'aaaa@a123.e'] but got ['@a123.com', '@a123.eu', '@a123.io']\n",
      "\n"
     ]
    },
    {
     "data": {
      "application/vnd.jupyter.widget-view+json": {
       "model_id": "b077c133224c473c90ac25620e5b3c49",
       "version_major": 2,
       "version_minor": 0
      },
      "text/plain": [
       "Calculating Metrics:   0%|          | 0/11 [00:00<?, ?it/s]"
      ]
     },
     "metadata": {},
     "output_type": "display_data"
    },
    {
     "data": {
      "application/vnd.jupyter.widget-view+json": {
       "model_id": "b0fde53c1c0346dda1000ddf93d9ddf6",
       "version_major": 2,
       "version_minor": 0
      },
      "text/plain": [
       "Calculating Metrics:   0%|          | 0/11 [00:00<?, ?it/s]"
      ]
     },
     "metadata": {},
     "output_type": "display_data"
    },
    {
     "data": {
      "application/vnd.jupyter.widget-view+json": {
       "model_id": "737b40c18c1d4afb8bf9e35f5024e143",
       "version_major": 2,
       "version_minor": 0
      },
      "text/plain": [
       "Calculating Metrics:   0%|          | 0/11 [00:00<?, ?it/s]"
      ]
     },
     "metadata": {},
     "output_type": "display_data"
    },
    {
     "data": {
      "application/vnd.jupyter.widget-view+json": {
       "model_id": "d38f1e7a0bc147e1a6c79ff5952e7986",
       "version_major": 2,
       "version_minor": 0
      },
      "text/plain": [
       "Calculating Metrics:   0%|          | 0/11 [00:00<?, ?it/s]"
      ]
     },
     "metadata": {},
     "output_type": "display_data"
    },
    {
     "name": "stdout",
     "output_type": "stream",
     "text": [
      "3 5 3 False\n",
      "Completeness checklist for ExpectColumnValuesToContainValidEmail (EXPERIMENTAL):\n",
      " ✔ Has a valid library_metadata object\n",
      "   Has a docstring, including a one-line short description\n",
      "   Has at least one positive and negative example case, and all test cases pass\n",
      "   Has core logic and passes tests on at least one Execution Engine\n",
      "   Passes all linting checks\n",
      "      inspect.getfile(impl) raised a TypeError (impl is a built-in class)\n",
      "   Has basic input validation and type checking\n",
      "      No validate_configuration method defined on subclass\n",
      " ✔ Has both statement Renderers: prescriptive and diagnostic\n",
      "   Has core logic that passes tests for all applicable Execution Engines and SQL dialects\n",
      "      Only 6 / 8 tests for pandas are passing\n",
      "        - Failing: negative_test_for_emails_with_no_leading_string, valid_emails\n",
      "      Only 7 / 8 tests for spark are passing\n",
      "        - Failing: negative_test_for_emails_with_no_leading_string\n",
      "   Has a full suite of tests, as determined by a code owner\n",
      "   Has passed a manual review by a code owner for code standards and style guides\n",
      "\n"
     ]
    }
   ],
   "source": [
    "# Databricks notebook source\n",
    "import json\n",
    "import re  # regular expressions\n",
    "\n",
    "# !!! This giant block of imports should be something simpler, such as:\n",
    "from great_expectations import *\n",
    "from great_expectations.execution_engine import (\n",
    "    PandasExecutionEngine,\n",
    "    SparkDFExecutionEngine,\n",
    "    SqlAlchemyExecutionEngine,\n",
    ")\n",
    "from great_expectations.expectations.expectation import (\n",
    "    ColumnMapExpectation,\n",
    "    Expectation,\n",
    "    ExpectationConfiguration,\n",
    ")\n",
    "from great_expectations.expectations.metrics import (\n",
    "    ColumnMapMetricProvider,\n",
    "    column_condition_partial,\n",
    ")\n",
    "from great_expectations.expectations.registry import (\n",
    "    _registered_expectations,\n",
    "    _registered_metrics,\n",
    "    _registered_renderers,\n",
    ")\n",
    "from great_expectations.expectations.util import render_evaluation_parameter_string\n",
    "from great_expectations.render.renderer.renderer import renderer\n",
    "from great_expectations.render.types import RenderedStringTemplateContent\n",
    "from great_expectations.render.util import num_to_str, substitute_none_for_missing\n",
    "from great_expectations.validator.validator import Validator\n",
    "\n",
    "EMAIL_REGEX = r\"[a-z0-9]+[\\._]?[a-z0-9]+[@]\\w+[.]\\w{2,7}$\"\n",
    "\n",
    "\n",
    "class ColumnValuesContainValidEmail(ColumnMapMetricProvider):\n",
    "    # This is the id string that will be used to reference your metric.\n",
    "    condition_metric_name = \"column_values.valid_email\"\n",
    "    condition_value_keys = ()\n",
    "\n",
    "    # This method defines the business logic for evaluating your metric when using a PandasExecutionEngine\n",
    "    @column_condition_partial(engine=PandasExecutionEngine)\n",
    "    def _pandas(cls, column, **kwargs):\n",
    "        def matches_email_regex(x):\n",
    "            if re.match(EMAIL_REGEX, str(x)):\n",
    "                return True\n",
    "            return False\n",
    "\n",
    "        return column.apply(lambda x: matches_email_regex(x) if x else False)\n",
    "\n",
    "    # This method defines the business logic for evaluating your metric when using a SqlAlchemyExecutionEngine\n",
    "    #     @column_condition_partial(engine=SqlAlchemyExecutionEngine)\n",
    "    #     def _sqlalchemy(cls, column, _dialect, **kwargs):\n",
    "    #         return column.in_([3])\n",
    "\n",
    "    # This method defines the business logic for evaluating your metric when using a SparkDFExecutionEngine\n",
    "    @column_condition_partial(engine=SparkDFExecutionEngine)\n",
    "    def _spark(cls, column, **kwargs):\n",
    "        return column.rlike(EMAIL_REGEX)\n",
    "\n",
    "\n",
    "# This class defines the Expectation itself\n",
    "# The main business logic for calculation lives here.\n",
    "class ExpectColumnValuesToContainValidEmail(ColumnMapExpectation):\n",
    "    # These examples will be shown in the public gallery, and also executed as unit tests for your Expectation\n",
    "    examples = [\n",
    "        {\n",
    "            \"data\": {\n",
    "                \"fail_case_1\": [\"a123@something\", \"a123@something.\", \"a123.\"],\n",
    "                \"fail_case_2\": [\"aaaa.a123.co\", \"aaaa.a123.\", \"aaaa.a123.com\"],\n",
    "                \"fail_case_3\": [\"aaaa@a123.e\", \"aaaa@a123.a\", \"aaaa@a123.d\"],\n",
    "                \"fail_case_4\": [\"@a123.com\", \"@a123.io\", \"@a123.eu\"],\n",
    "                \"pass_case_1\": [\n",
    "                    \"a123@something.com\",\n",
    "                    \"vinod.km@something.au\",\n",
    "                    \"this@better.work\",\n",
    "                ],\n",
    "                \"pass_case_2\": [\n",
    "                    \"example@website.dom\",\n",
    "                    \"ex.ample@example.ex\",\n",
    "                    \"great@expectations.email\",\n",
    "                ],\n",
    "                \"valid_emails\": [\n",
    "                    \"Janedoe@company.org\",\n",
    "                    \"someone123@stuff.net\",\n",
    "                    \"mycompany@mycompany.com\",\n",
    "                ],\n",
    "                \"bad_emails\": [\"Hello, world!\", \"Sophia\", \"this should fail\"],\n",
    "            },\n",
    "            \"tests\": [\n",
    "                {\n",
    "                    \"title\": \"negative_test_for_no_domain_name\",\n",
    "                    \"exact_match_out\": False,\n",
    "                    \"include_in_gallery\": True,\n",
    "                    \"in\": {\"column\": \"fail_case_1\"},\n",
    "                    \"out\": {\n",
    "                        \"success\": False,\n",
    "                        \"unexpected_index_list\": [0, 1, 2],\n",
    "                        \"unexpected_list\": [\n",
    "                            \"a123@something\",\n",
    "                            \"a123@something.\",\n",
    "                            \"a123.\",\n",
    "                        ],\n",
    "                    },\n",
    "                },\n",
    "                {\n",
    "                    \"title\": \"negative_test_for_no_at_symbol\",\n",
    "                    \"exact_match_out\": False,\n",
    "                    \"include_in_gallery\": True,\n",
    "                    \"in\": {\"column\": \"fail_case_2\"},\n",
    "                    \"out\": {\n",
    "                        \"success\": False,\n",
    "                        \"unexpected_index_list\": [0, 1, 2],\n",
    "                        \"unexpected_list\": [\n",
    "                            \"aaaa.a123.co\",\n",
    "                            \"aaaa.a123.\",\n",
    "                            \"aaaa.a123.com\",\n",
    "                        ],\n",
    "                    },\n",
    "                },\n",
    "                {\n",
    "                    \"title\": \"negative_test_for_ending_with_one_character\",\n",
    "                    \"exact_match_out\": False,\n",
    "                    \"include_in_gallery\": True,\n",
    "                    \"in\": {\"column\": \"fail_case_3\"},\n",
    "                    \"out\": {\n",
    "                        \"success\": False,\n",
    "                        \"unexpected_index_list\": [0, 1, 2],\n",
    "                        \"unexpected_list\": [\n",
    "                            \"aaaa@a123.e\",\n",
    "                            \"aaaa@a123.a\",\n",
    "                            \"aaaa@a123.d\",\n",
    "                        ],\n",
    "                    },\n",
    "                },\n",
    "                {\n",
    "                    \"title\": \"negative_test_for_emails_with_no_leading_string\",\n",
    "                    \"exact_match_out\": False,\n",
    "                    \"include_in_gallery\": True,\n",
    "                    \"in\": {\"column\": \"fail_case_4\"},\n",
    "                    \"out\": {\n",
    "                        \"success\": False,\n",
    "                        \"unexpected_index_list\": [0, 1, 2],\n",
    "                        \"unexpected_list\": [\n",
    "                            \"aaaa@a123.e\",\n",
    "                            \"aaaa@a123.a\",\n",
    "                            \"aaaa@a123.d\",\n",
    "                        ],\n",
    "                    },\n",
    "                },\n",
    "                {\n",
    "                    \"title\": \"pass_test\",\n",
    "                    \"exact_match_out\": False,\n",
    "                    \"include_in_gallery\": True,\n",
    "                    \"in\": {\"column\": \"pass_case_1\"},\n",
    "                    \"out\": {\n",
    "                        \"success\": True,\n",
    "                        \"unexpected_index_list\": [],\n",
    "                        \"unexpected_list\": [],\n",
    "                    },\n",
    "                },\n",
    "                {\n",
    "                    \"title\": \"pass_test\",\n",
    "                    \"exact_match_out\": False,\n",
    "                    \"include_in_gallery\": True,\n",
    "                    \"in\": {\"column\": \"pass_case_2\"},\n",
    "                    \"out\": {\n",
    "                        \"success\": True,\n",
    "                        \"unexpected_index_list\": [],\n",
    "                        \"unexpected_list\": [],\n",
    "                    },\n",
    "                },\n",
    "                {\n",
    "                    \"title\": \"valid_emails\",\n",
    "                    \"exact_match_out\": False,\n",
    "                    \"include_in_gallery\": True,\n",
    "                    \"in\": {\"column\": \"valid_emails\"},\n",
    "                    \"out\": {\n",
    "                        \"success\": True,\n",
    "                        \"unexpected_index_list\": [],\n",
    "                        \"unexpected_list\": [],\n",
    "                    },\n",
    "                },\n",
    "                {\n",
    "                    \"title\": \"invalid_emails\",\n",
    "                    \"exact_match_out\": False,\n",
    "                    \"include_in_gallery\": True,\n",
    "                    \"in\": {\"column\": \"bad_emails\"},\n",
    "                    \"out\": {\n",
    "                        \"success\": False,\n",
    "                        \"unexpected_index_list\": [0, 1, 2],\n",
    "                        \"unexpected_list\": [\n",
    "                            \"Hello, world!\",\n",
    "                            \"Sophia\",\n",
    "                            \"this should fail\",\n",
    "                        ],\n",
    "                    },\n",
    "                },\n",
    "            ],\n",
    "        }\n",
    "    ]\n",
    "\n",
    "    # This dictionary contains metadata for display in the public gallery\n",
    "    library_metadata = {\n",
    "        \"maturity\": \"experimental\",\n",
    "        \"tags\": [\"experimental\", \"column map expectation\"],\n",
    "        \"contributors\": [  # Github\n",
    "            \"@aworld1\",\n",
    "            \"@enagola\",\n",
    "            \"@spencerhardwick\",\n",
    "            \"@vinodkri1\",\n",
    "            \"@degulati\",\n",
    "            \"@ljohnston931\",\n",
    "            \"@rexboyce\",\n",
    "            \"@lodeous\",\n",
    "            \"@sophiarawlings\",\n",
    "            \"@vtdangg\",\n",
    "        ],\n",
    "    }\n",
    "\n",
    "    # This is the id string of the Metric used by this Expectation.\n",
    "    # For most Expectations, it will be the same as the `condition_metric_name` defined in your Metric class above.\n",
    "    map_metric = \"column_values.valid_email\"\n",
    "\n",
    "    # This is a list of parameter names that can affect whether the Expectation evaluates to True or False\n",
    "    # Please see {some doc} for more information about domain and success keys, and other arguments to Expectations\n",
    "    success_keys = ()\n",
    "\n",
    "    # This dictionary contains default values for any parameters that should have default values\n",
    "    default_kwarg_values = {}\n",
    "\n",
    "    # This method defines a question Renderer\n",
    "    # For more info on Renderers, see {some doc}\n",
    "    # !!! This example renderer should render RenderedStringTemplateContent, not just a string\n",
    "\n",
    "\n",
    "#     @classmethod\n",
    "#     @renderer(renderer_type=\"renderer.question\")\n",
    "#     def _question_renderer(\n",
    "#         cls, configuration, result=None, language=None, runtime_configuration=None\n",
    "#     ):\n",
    "#         column = configuration.kwargs.get(\"column\")\n",
    "#         mostly = configuration.kwargs.get(\"mostly\")\n",
    "\n",
    "#         return f'Do at least {mostly * 100}% of values in column \"{column}\" equal 3?'\n",
    "\n",
    "# This method defines an answer Renderer\n",
    "# !!! This example renderer should render RenderedStringTemplateContent, not just a string\n",
    "#     @classmethod\n",
    "#     @renderer(renderer_type=\"renderer.answer\")\n",
    "#     def _answer_renderer(\n",
    "#         cls, configuration=None, result=None, language=None, runtime_configuration=None\n",
    "#     ):\n",
    "#         column = result.expectation_config.kwargs.get(\"column\")\n",
    "#         mostly = result.expectation_config.kwargs.get(\"mostly\")\n",
    "#         regex = result.expectation_config.kwargs.get(\"regex\")\n",
    "#         if result.success:\n",
    "#             return f'At least {mostly * 100}% of values in column \"{column}\" equal 3.'\n",
    "#         else:\n",
    "#             return f'Less than {mostly * 100}% of values in column \"{column}\" equal 3.'\n",
    "\n",
    "# This method defines a prescriptive Renderer\n",
    "#     @classmethod\n",
    "#     @renderer(renderer_type=\"renderer.prescriptive\")\n",
    "#     @render_evaluation_parameter_string\n",
    "#     def _prescriptive_renderer(\n",
    "#         cls,\n",
    "#         configuration=None,\n",
    "#         result=None,\n",
    "#         language=None,\n",
    "#         runtime_configuration=None,\n",
    "#         **kwargs,\n",
    "#     ):\n",
    "# !!! This example renderer should be shorter\n",
    "#         runtime_configuration = runtime_configuration or {}\n",
    "#         include_column_name = runtime_configuration.get(\"include_column_name\", True)\n",
    "#         include_column_name = (\n",
    "#             include_column_name if include_column_name is not None else True\n",
    "#         )\n",
    "#         styling = runtime_configuration.get(\"styling\")\n",
    "#         params = substitute_none_for_missing(\n",
    "#             configuration.kwargs,\n",
    "#             [\"column\", \"regex\", \"mostly\", \"row_condition\", \"condition_parser\"],\n",
    "#         )\n",
    "\n",
    "#         template_str = \"values must be equal to 3\"\n",
    "#         if params[\"mostly\"] is not None:\n",
    "#             params[\"mostly_pct\"] = num_to_str(\n",
    "#                 params[\"mostly\"] * 100, precision=15, no_scientific=True\n",
    "#             )\n",
    "#             # params[\"mostly_pct\"] = \"{:.14f}\".format(params[\"mostly\"]*100).rstrip(\"0\").rstrip(\".\")\n",
    "#             template_str += \", at least $mostly_pct % of the time.\"\n",
    "#         else:\n",
    "#             template_str += \".\"\n",
    "\n",
    "#         if include_column_name:\n",
    "#             template_str = \"$column \" + template_str\n",
    "\n",
    "#         if params[\"row_condition\"] is not None:\n",
    "#             (\n",
    "#                 conditional_template_str,\n",
    "#                 conditional_params,\n",
    "#             ) = parse_row_condition_string_pandas_engine(params[\"row_condition\"])\n",
    "#             template_str = conditional_template_str + \", then \" + template_str\n",
    "#             params.update(conditional_params)\n",
    "\n",
    "#         return [\n",
    "#             RenderedStringTemplateContent(\n",
    "#                 **{\n",
    "#                     \"content_block_type\": \"string_template\",\n",
    "#                     \"string_template\": {\n",
    "#                         \"template\": template_str,\n",
    "#                         \"params\": params,\n",
    "#                         \"styling\": styling,\n",
    "#                     },\n",
    "#                 }\n",
    "#             )\n",
    "#         ]\n",
    "\n",
    "if __name__ == \"__main__\":\n",
    "    ExpectColumnValuesToContainValidEmail().print_diagnostic_checklist()\n",
    "\n",
    "# COMMAND ----------\n",
    "\n",
    "\n"
   ]
  },
  {
   "cell_type": "code",
   "execution_count": 25,
   "id": "fab41662",
   "metadata": {},
   "outputs": [
    {
     "data": {
      "application/vnd.jupyter.widget-view+json": {
       "model_id": "be5ea97c4e3e422d8fc53d3e61e857bd",
       "version_major": 2,
       "version_minor": 0
      },
      "text/plain": [
       "Calculating Metrics:   0%|          | 0/11 [00:00<?, ?it/s]"
      ]
     },
     "metadata": {},
     "output_type": "display_data"
    },
    {
     "data": {
      "text/plain": [
       "{\n",
       "  \"result\": {\n",
       "    \"element_count\": 16,\n",
       "    \"unexpected_count\": 14,\n",
       "    \"unexpected_percent\": 93.33333333333333,\n",
       "    \"partial_unexpected_list\": [\n",
       "      \"abc.def@mail-archive.com\",\n",
       "      \"abc.def@mail#archive.com\",\n",
       "      \"abc.def@mail\",\n",
       "      \"abc.def@mail\",\n",
       "      \"abc.def@mail\",\n",
       "      \"abc.def@mail\",\n",
       "      \"abc.def@mail\",\n",
       "      \"abc.def@mail\",\n",
       "      \"abc.def@mail\",\n",
       "      \"abc.def@mail\",\n",
       "      \"abc.def@mail\",\n",
       "      \"abc.def@mail\",\n",
       "      \"abc.def@mail\",\n",
       "      \"abc.def@mail\"\n",
       "    ],\n",
       "    \"missing_count\": 1,\n",
       "    \"missing_percent\": 6.25,\n",
       "    \"unexpected_percent_total\": 87.5,\n",
       "    \"unexpected_percent_nonmissing\": 93.33333333333333\n",
       "  },\n",
       "  \"exception_info\": {\n",
       "    \"raised_exception\": false,\n",
       "    \"exception_traceback\": null,\n",
       "    \"exception_message\": null\n",
       "  },\n",
       "  \"success\": false,\n",
       "  \"meta\": {}\n",
       "}"
      ]
     },
     "execution_count": 25,
     "metadata": {},
     "output_type": "execute_result"
    }
   ],
   "source": [
    "validator.expect_column_values_to_contain_valid_email(column=\"email\")\n",
    "# result_format = {'result_format' : \"SUMMARY\"}"
   ]
  },
  {
   "cell_type": "code",
   "execution_count": 8,
   "id": "c391f769",
   "metadata": {},
   "outputs": [
    {
     "data": {
      "text/plain": [
       "8"
      ]
     },
     "execution_count": 8,
     "metadata": {},
     "output_type": "execute_result"
    }
   ],
   "source": [
    "import psutil\n",
    "psutil.cpu_count()"
   ]
  },
  {
   "cell_type": "code",
   "execution_count": 1,
   "id": "3621dba7",
   "metadata": {},
   "outputs": [],
   "source": [
    "import posixpath as pp"
   ]
  },
  {
   "cell_type": "code",
   "execution_count": 3,
   "id": "cb41b3bd",
   "metadata": {},
   "outputs": [],
   "source": [
    "class Constants:\n",
    "    \"\"\"This class defines all the constant variables used in the application\n",
    "    \"\"\"\n",
    "    MANDATORY_FIELDS = ['database', 'table_names']\n",
    "    DEFAULT_OPTIONAL_ARGS = {}\n",
    "    GE_CONFIG_TBL_NAME = 'ge_config'\n",
    "    BAD_RESULTS_PATH = 'bad_results'\n",
    "    EXPECTATION_RESULTS_PREFIX = 'ge_expectation_results_json'\n",
    "    GE_DC_EXPECTATION_PREFIX = 'expectations'\n",
    "    GE_DC_VALIDATION_PREFIX = 'validations'\n",
    "    GE_DC_DATA_DOCS_PREFIX = 'data_docs'\n"
   ]
  },
  {
   "cell_type": "code",
   "execution_count": 45,
   "id": "cb292553",
   "metadata": {},
   "outputs": [
    {
     "ename": "AttributeError",
     "evalue": "'method_descriptor' object has no attribute 'today'",
     "output_type": "error",
     "traceback": [
      "\u001b[1;31m---------------------------------------------------------------------------\u001b[0m",
      "\u001b[1;31mAttributeError\u001b[0m                            Traceback (most recent call last)",
      "\u001b[1;32mC:\\Users\\ABHINA~1.ANA\\AppData\\Local\\Temp/ipykernel_19012/3817045744.py\u001b[0m in \u001b[0;36m<module>\u001b[1;34m\u001b[0m\n\u001b[0;32m      1\u001b[0m \u001b[1;32mfrom\u001b[0m \u001b[0mdatetime\u001b[0m \u001b[1;32mimport\u001b[0m \u001b[0mdatetime\u001b[0m\u001b[1;33m\u001b[0m\u001b[1;33m\u001b[0m\u001b[0m\n\u001b[1;32m----> 2\u001b[1;33m \u001b[0mtoday\u001b[0m \u001b[1;33m=\u001b[0m \u001b[0mdatetime\u001b[0m\u001b[1;33m.\u001b[0m\u001b[0mdate\u001b[0m\u001b[1;33m.\u001b[0m\u001b[0mtoday\u001b[0m\u001b[1;33m(\u001b[0m\u001b[1;33m)\u001b[0m\u001b[1;33m\u001b[0m\u001b[1;33m\u001b[0m\u001b[0m\n\u001b[0m\u001b[0;32m      3\u001b[0m \u001b[0mcurrent_date_str\u001b[0m \u001b[1;33m=\u001b[0m \u001b[0mtoday\u001b[0m\u001b[1;33m.\u001b[0m\u001b[0mstrftime\u001b[0m\u001b[1;33m(\u001b[0m\u001b[1;34m'%Y%m%d'\u001b[0m\u001b[1;33m)\u001b[0m\u001b[1;33m\u001b[0m\u001b[1;33m\u001b[0m\u001b[0m\n\u001b[0;32m      4\u001b[0m \u001b[0mcurrent_timestamp_str\u001b[0m \u001b[1;33m=\u001b[0m \u001b[0mtoday\u001b[0m\u001b[1;33m.\u001b[0m\u001b[0mstrftime\u001b[0m\u001b[1;33m(\u001b[0m\u001b[1;34m'%H%M%S'\u001b[0m\u001b[1;33m)\u001b[0m\u001b[1;33m\u001b[0m\u001b[1;33m\u001b[0m\u001b[0m\n\u001b[0;32m      5\u001b[0m \u001b[0mbucket_name\u001b[0m \u001b[1;33m=\u001b[0m \u001b[1;34m\"ge\"\u001b[0m\u001b[1;33m\u001b[0m\u001b[1;33m\u001b[0m\u001b[0m\n",
      "\u001b[1;31mAttributeError\u001b[0m: 'method_descriptor' object has no attribute 'today'"
     ]
    }
   ],
   "source": [
    "from datetime import datetime\n",
    "today = datetime.date.today()\n",
    "current_date_str = today.strftime('%Y%m%d')\n",
    "current_timestamp_str = today.strftime('%H%M%S')\n",
    "bucket_name = \"ge\"\n",
    "db_root_prefix = \"dq\"\n",
    "db_name = \"star\"\n",
    "tbl_name = \"actives\""
   ]
  },
  {
   "cell_type": "code",
   "execution_count": 35,
   "id": "65cfa284",
   "metadata": {},
   "outputs": [],
   "source": [
    "bad_results_path = pp.join('s3://', bucket_name, db_root_prefix, db_name,\n",
    "                           Constants.BAD_RESULTS_PATH, tbl_name, current_date_str,\n",
    "                           tbl_name + '_' + current_timestamp_str + '.csv')"
   ]
  },
  {
   "cell_type": "code",
   "execution_count": 36,
   "id": "8694f174",
   "metadata": {},
   "outputs": [
    {
     "name": "stdout",
     "output_type": "stream",
     "text": [
      "s3://ge/dq/star/bad_results/actives/20220817/actives_125353.csv\n"
     ]
    }
   ],
   "source": [
    "print(bad_results_path)"
   ]
  },
  {
   "cell_type": "code",
   "execution_count": 43,
   "id": "7cfa9e18",
   "metadata": {},
   "outputs": [],
   "source": [
    "test = \"C:/Users/abhinav.anand/Desktop/dq_check\"+\"/\"+current_date_str+'_' + current_timestamp_str +\".csv\"\n",
    "#\"current_date_str\"+\".csv\""
   ]
  },
  {
   "cell_type": "code",
   "execution_count": 44,
   "id": "411b9278",
   "metadata": {},
   "outputs": [
    {
     "name": "stdout",
     "output_type": "stream",
     "text": [
      "C:/Users/abhinav.anand/Desktop/dq_check/20220817_125353.csv\n"
     ]
    }
   ],
   "source": [
    "print(test)"
   ]
  },
  {
   "cell_type": "code",
   "execution_count": 49,
   "id": "6bb043fa",
   "metadata": {},
   "outputs": [],
   "source": [
    "data_df = spark.read.format(\"csv\").options(inferSchema = \"true\",header = \"true\", sep= \",\",quote=\"\\\"\",\n",
    "                                                                                  escape=\"\\\"\").load(r\"C:\\Users\\abhinav.anand\\Downloads\\sample_data_dq.csv\")"
   ]
  },
  {
   "cell_type": "code",
   "execution_count": 50,
   "id": "640635b7",
   "metadata": {},
   "outputs": [
    {
     "name": "stdout",
     "output_type": "stream",
     "text": [
      "root\n",
      " |-- id: integer (nullable = true)\n",
      " |-- first_name: string (nullable = true)\n",
      " |-- last_name: string (nullable = true)\n",
      " |-- email: string (nullable = true)\n",
      " |-- url: string (nullable = true)\n",
      " |-- salary: integer (nullable = true)\n",
      " |-- zipcode: integer (nullable = true)\n",
      " |-- lat: double (nullable = true)\n",
      " |-- created_ts: string (nullable = true)\n",
      "\n"
     ]
    }
   ],
   "source": [
    "data_df.printSchema()"
   ]
  },
  {
   "cell_type": "code",
   "execution_count": 1,
   "id": "ed048b8f",
   "metadata": {},
   "outputs": [
    {
     "name": "stdout",
     "output_type": "stream",
     "text": [
      "13\n"
     ]
    }
   ],
   "source": [
    "a=7\n",
    "b=6\n",
    "print(a+b)"
   ]
  },
  {
   "cell_type": "code",
   "execution_count": null,
   "id": "678cccab",
   "metadata": {},
   "outputs": [],
   "source": []
  }
 ],
 "metadata": {
  "kernelspec": {
   "display_name": "Python 3 (ipykernel)",
   "language": "python",
   "name": "python3"
  },
  "language_info": {
   "codemirror_mode": {
    "name": "ipython",
    "version": 3
   },
   "file_extension": ".py",
   "mimetype": "text/x-python",
   "name": "python",
   "nbconvert_exporter": "python",
   "pygments_lexer": "ipython3",
   "version": "3.9.7"
  }
 },
 "nbformat": 4,
 "nbformat_minor": 5
}

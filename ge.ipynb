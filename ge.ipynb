{
 "cells": [
  {
   "cell_type": "code",
   "execution_count": 1,
   "id": "42ffdbfd",
   "metadata": {},
   "outputs": [
    {
     "data": {
      "text/plain": [
       "'/Users/vikashgarg/opt/anaconda3/lib/python3.9/site-packages/pyspark'"
      ]
     },
     "execution_count": 1,
     "metadata": {},
     "output_type": "execute_result"
    }
   ],
   "source": [
    "import findspark\n",
    "findspark.init()\n",
    "findspark.find()"
   ]
  },
  {
   "cell_type": "code",
   "execution_count": 2,
   "id": "a685289a",
   "metadata": {},
   "outputs": [
    {
     "name": "stdout",
     "output_type": "stream",
     "text": [
      "Requirement already satisfied: great_expectations==0.15.31 in /Users/vikashgarg/opt/anaconda3/lib/python3.9/site-packages (0.15.31)\n",
      "Requirement already satisfied: termcolor<2.1.0,>=1.1.0 in /Users/vikashgarg/opt/anaconda3/lib/python3.9/site-packages (from great_expectations==0.15.31) (2.0.1)\n",
      "Requirement already satisfied: Click>=7.1.2 in /Users/vikashgarg/opt/anaconda3/lib/python3.9/site-packages (from great_expectations==0.15.31) (8.0.4)\n",
      "Requirement already satisfied: pyparsing>=2.4 in /Users/vikashgarg/opt/anaconda3/lib/python3.9/site-packages (from great_expectations==0.15.31) (2.4.7)\n",
      "Requirement already satisfied: python-dateutil>=2.8.1 in /Users/vikashgarg/opt/anaconda3/lib/python3.9/site-packages (from great_expectations==0.15.31) (2.8.2)\n",
      "Requirement already satisfied: notebook>=6.4.10 in /Users/vikashgarg/opt/anaconda3/lib/python3.9/site-packages (from great_expectations==0.15.31) (6.4.11)\n",
      "Requirement already satisfied: pandas>=1.1.0 in /Users/vikashgarg/opt/anaconda3/lib/python3.9/site-packages (from great_expectations==0.15.31) (1.4.2)\n",
      "Requirement already satisfied: typing-extensions>=3.10.0.0 in /Users/vikashgarg/opt/anaconda3/lib/python3.9/site-packages (from great_expectations==0.15.31) (4.1.1)\n",
      "Requirement already satisfied: importlib-metadata>=1.7.0 in /Users/vikashgarg/opt/anaconda3/lib/python3.9/site-packages (from great_expectations==0.15.31) (4.11.3)\n",
      "Requirement already satisfied: packaging in /Users/vikashgarg/opt/anaconda3/lib/python3.9/site-packages (from great_expectations==0.15.31) (21.3)\n",
      "Requirement already satisfied: numpy>=1.18.5 in /Users/vikashgarg/opt/anaconda3/lib/python3.9/site-packages (from great_expectations==0.15.31) (1.21.5)\n",
      "Requirement already satisfied: requests>=2.20 in /Users/vikashgarg/opt/anaconda3/lib/python3.9/site-packages (from great_expectations==0.15.31) (2.27.1)\n",
      "Requirement already satisfied: marshmallow<4.0.0,>=3.7.1 in /Users/vikashgarg/opt/anaconda3/lib/python3.9/site-packages (from great_expectations==0.15.31) (3.19.0)\n",
      "Requirement already satisfied: jinja2>=2.10 in /Users/vikashgarg/opt/anaconda3/lib/python3.9/site-packages (from great_expectations==0.15.31) (2.11.3)\n",
      "Requirement already satisfied: Ipython>=7.16.3 in /Users/vikashgarg/opt/anaconda3/lib/python3.9/site-packages (from great_expectations==0.15.31) (8.3.0)\n",
      "Requirement already satisfied: altair<5,>=4.0.0 in /Users/vikashgarg/opt/anaconda3/lib/python3.9/site-packages (from great_expectations==0.15.31) (4.2.0)\n",
      "Requirement already satisfied: jsonpatch>=1.22 in /Users/vikashgarg/opt/anaconda3/lib/python3.9/site-packages (from great_expectations==0.15.31) (1.32)\n",
      "Requirement already satisfied: tzlocal>=1.2 in /Users/vikashgarg/opt/anaconda3/lib/python3.9/site-packages (from great_expectations==0.15.31) (4.2)\n",
      "Requirement already satisfied: tqdm>=4.59.0 in /Users/vikashgarg/opt/anaconda3/lib/python3.9/site-packages (from great_expectations==0.15.31) (4.64.0)\n",
      "Requirement already satisfied: pytz>=2021.3 in /Users/vikashgarg/opt/anaconda3/lib/python3.9/site-packages (from great_expectations==0.15.31) (2021.3)\n",
      "Requirement already satisfied: urllib3<1.27,>=1.25.4 in /Users/vikashgarg/opt/anaconda3/lib/python3.9/site-packages (from great_expectations==0.15.31) (1.26.9)\n",
      "Requirement already satisfied: mistune>=0.8.4 in /Users/vikashgarg/opt/anaconda3/lib/python3.9/site-packages (from great_expectations==0.15.31) (0.8.4)\n",
      "Requirement already satisfied: jsonschema<=4.7.2,>=2.5.1 in /Users/vikashgarg/opt/anaconda3/lib/python3.9/site-packages (from great_expectations==0.15.31) (4.4.0)\n",
      "Requirement already satisfied: makefun<2,>=1.7.0 in /Users/vikashgarg/opt/anaconda3/lib/python3.9/site-packages (from great_expectations==0.15.31) (1.15.0)\n",
      "Requirement already satisfied: scipy>=0.19.0 in /Users/vikashgarg/opt/anaconda3/lib/python3.9/site-packages (from great_expectations==0.15.31) (1.7.3)\n",
      "Requirement already satisfied: ipywidgets>=7.5.1 in /Users/vikashgarg/opt/anaconda3/lib/python3.9/site-packages (from great_expectations==0.15.31) (7.6.5)\n",
      "Requirement already satisfied: ruamel.yaml<0.17.18,>=0.16 in /Users/vikashgarg/opt/anaconda3/lib/python3.9/site-packages (from great_expectations==0.15.31) (0.17.17)\n",
      "Requirement already satisfied: cryptography>=3.2 in /Users/vikashgarg/opt/anaconda3/lib/python3.9/site-packages (from great_expectations==0.15.31) (3.4.7)\n",
      "Requirement already satisfied: colorama>=0.4.3 in /Users/vikashgarg/opt/anaconda3/lib/python3.9/site-packages (from great_expectations==0.15.31) (0.4.4)\n",
      "Requirement already satisfied: nbformat>=5.0 in /Users/vikashgarg/opt/anaconda3/lib/python3.9/site-packages (from great_expectations==0.15.31) (5.3.0)\n",
      "Requirement already satisfied: entrypoints in /Users/vikashgarg/opt/anaconda3/lib/python3.9/site-packages (from altair<5,>=4.0.0->great_expectations==0.15.31) (0.4)\n",
      "Requirement already satisfied: toolz in /Users/vikashgarg/opt/anaconda3/lib/python3.9/site-packages (from altair<5,>=4.0.0->great_expectations==0.15.31) (0.11.2)\n",
      "Requirement already satisfied: cffi>=1.12 in /Users/vikashgarg/opt/anaconda3/lib/python3.9/site-packages (from cryptography>=3.2->great_expectations==0.15.31) (1.15.0)\n",
      "Requirement already satisfied: pycparser in /Users/vikashgarg/opt/anaconda3/lib/python3.9/site-packages (from cffi>=1.12->cryptography>=3.2->great_expectations==0.15.31) (2.21)\n",
      "Requirement already satisfied: zipp>=0.5 in /Users/vikashgarg/opt/anaconda3/lib/python3.9/site-packages (from importlib-metadata>=1.7.0->great_expectations==0.15.31) (3.8.0)\n",
      "Requirement already satisfied: prompt-toolkit!=3.0.0,!=3.0.1,<3.1.0,>=2.0.0 in /Users/vikashgarg/opt/anaconda3/lib/python3.9/site-packages (from Ipython>=7.16.3->great_expectations==0.15.31) (3.0.20)\n",
      "Requirement already satisfied: matplotlib-inline in /Users/vikashgarg/opt/anaconda3/lib/python3.9/site-packages (from Ipython>=7.16.3->great_expectations==0.15.31) (0.1.2)\n",
      "Requirement already satisfied: backcall in /Users/vikashgarg/opt/anaconda3/lib/python3.9/site-packages (from Ipython>=7.16.3->great_expectations==0.15.31) (0.2.0)\n",
      "Requirement already satisfied: traitlets>=5 in /Users/vikashgarg/opt/anaconda3/lib/python3.9/site-packages (from Ipython>=7.16.3->great_expectations==0.15.31) (5.1.1)\n",
      "Requirement already satisfied: appnope in /Users/vikashgarg/opt/anaconda3/lib/python3.9/site-packages (from Ipython>=7.16.3->great_expectations==0.15.31) (0.1.2)\n",
      "Requirement already satisfied: setuptools>=18.5 in /Users/vikashgarg/opt/anaconda3/lib/python3.9/site-packages (from Ipython>=7.16.3->great_expectations==0.15.31) (61.2.0)\n",
      "Requirement already satisfied: jedi>=0.16 in /Users/vikashgarg/opt/anaconda3/lib/python3.9/site-packages (from Ipython>=7.16.3->great_expectations==0.15.31) (0.18.1)\n",
      "Requirement already satisfied: pickleshare in /Users/vikashgarg/opt/anaconda3/lib/python3.9/site-packages (from Ipython>=7.16.3->great_expectations==0.15.31) (0.7.5)\n",
      "Requirement already satisfied: pygments>=2.4.0 in /Users/vikashgarg/opt/anaconda3/lib/python3.9/site-packages (from Ipython>=7.16.3->great_expectations==0.15.31) (2.11.2)\n",
      "Requirement already satisfied: stack-data in /Users/vikashgarg/opt/anaconda3/lib/python3.9/site-packages (from Ipython>=7.16.3->great_expectations==0.15.31) (0.2.0)\n",
      "Requirement already satisfied: pexpect>4.3 in /Users/vikashgarg/opt/anaconda3/lib/python3.9/site-packages (from Ipython>=7.16.3->great_expectations==0.15.31) (4.8.0)\n",
      "Requirement already satisfied: decorator in /Users/vikashgarg/opt/anaconda3/lib/python3.9/site-packages (from Ipython>=7.16.3->great_expectations==0.15.31) (5.1.1)\n",
      "Requirement already satisfied: ipykernel>=4.5.1 in /Users/vikashgarg/opt/anaconda3/lib/python3.9/site-packages (from ipywidgets>=7.5.1->great_expectations==0.15.31) (6.9.1)\n",
      "Requirement already satisfied: ipython-genutils~=0.2.0 in /Users/vikashgarg/opt/anaconda3/lib/python3.9/site-packages (from ipywidgets>=7.5.1->great_expectations==0.15.31) (0.2.0)\n",
      "Requirement already satisfied: jupyterlab-widgets>=1.0.0 in /Users/vikashgarg/opt/anaconda3/lib/python3.9/site-packages (from ipywidgets>=7.5.1->great_expectations==0.15.31) (1.0.0)\n",
      "Requirement already satisfied: widgetsnbextension~=3.5.0 in /Users/vikashgarg/opt/anaconda3/lib/python3.9/site-packages (from ipywidgets>=7.5.1->great_expectations==0.15.31) (3.5.2)\n",
      "Requirement already satisfied: nest-asyncio in /Users/vikashgarg/opt/anaconda3/lib/python3.9/site-packages (from ipykernel>=4.5.1->ipywidgets>=7.5.1->great_expectations==0.15.31) (1.5.5)\n",
      "Requirement already satisfied: tornado<7.0,>=4.2 in /Users/vikashgarg/opt/anaconda3/lib/python3.9/site-packages (from ipykernel>=4.5.1->ipywidgets>=7.5.1->great_expectations==0.15.31) (6.1)\n",
      "Requirement already satisfied: jupyter-client<8.0 in /Users/vikashgarg/opt/anaconda3/lib/python3.9/site-packages (from ipykernel>=4.5.1->ipywidgets>=7.5.1->great_expectations==0.15.31) (7.2.2)\n",
      "Requirement already satisfied: debugpy<2.0,>=1.0.0 in /Users/vikashgarg/opt/anaconda3/lib/python3.9/site-packages (from ipykernel>=4.5.1->ipywidgets>=7.5.1->great_expectations==0.15.31) (1.5.1)\n",
      "Requirement already satisfied: parso<0.9.0,>=0.8.0 in /Users/vikashgarg/opt/anaconda3/lib/python3.9/site-packages (from jedi>=0.16->Ipython>=7.16.3->great_expectations==0.15.31) (0.8.3)\n",
      "Requirement already satisfied: MarkupSafe>=0.23 in /Users/vikashgarg/opt/anaconda3/lib/python3.9/site-packages (from jinja2>=2.10->great_expectations==0.15.31) (2.0.1)\n",
      "Requirement already satisfied: jsonpointer>=1.9 in /Users/vikashgarg/opt/anaconda3/lib/python3.9/site-packages (from jsonpatch>=1.22->great_expectations==0.15.31) (2.3)\n",
      "Requirement already satisfied: pyrsistent!=0.17.0,!=0.17.1,!=0.17.2,>=0.14.0 in /Users/vikashgarg/opt/anaconda3/lib/python3.9/site-packages (from jsonschema<=4.7.2,>=2.5.1->great_expectations==0.15.31) (0.18.0)\n",
      "Requirement already satisfied: attrs>=17.4.0 in /Users/vikashgarg/opt/anaconda3/lib/python3.9/site-packages (from jsonschema<=4.7.2,>=2.5.1->great_expectations==0.15.31) (21.4.0)\n",
      "Requirement already satisfied: pyzmq>=22.3 in /Users/vikashgarg/opt/anaconda3/lib/python3.9/site-packages (from jupyter-client<8.0->ipykernel>=4.5.1->ipywidgets>=7.5.1->great_expectations==0.15.31) (22.3.0)\n"
     ]
    },
    {
     "name": "stdout",
     "output_type": "stream",
     "text": [
      "Requirement already satisfied: jupyter-core>=4.9.2 in /Users/vikashgarg/opt/anaconda3/lib/python3.9/site-packages (from jupyter-client<8.0->ipykernel>=4.5.1->ipywidgets>=7.5.1->great_expectations==0.15.31) (4.10.0)\n",
      "Requirement already satisfied: fastjsonschema in /Users/vikashgarg/opt/anaconda3/lib/python3.9/site-packages (from nbformat>=5.0->great_expectations==0.15.31) (2.15.1)\n",
      "Requirement already satisfied: prometheus-client in /Users/vikashgarg/opt/anaconda3/lib/python3.9/site-packages (from notebook>=6.4.10->great_expectations==0.15.31) (0.13.1)\n",
      "Requirement already satisfied: Send2Trash>=1.8.0 in /Users/vikashgarg/opt/anaconda3/lib/python3.9/site-packages (from notebook>=6.4.10->great_expectations==0.15.31) (1.8.0)\n",
      "Requirement already satisfied: argon2-cffi in /Users/vikashgarg/opt/anaconda3/lib/python3.9/site-packages (from notebook>=6.4.10->great_expectations==0.15.31) (21.3.0)\n",
      "Requirement already satisfied: nbconvert>=5 in /Users/vikashgarg/opt/anaconda3/lib/python3.9/site-packages (from notebook>=6.4.10->great_expectations==0.15.31) (6.4.4)\n",
      "Requirement already satisfied: terminado>=0.8.3 in /Users/vikashgarg/opt/anaconda3/lib/python3.9/site-packages (from notebook>=6.4.10->great_expectations==0.15.31) (0.13.1)\n",
      "Requirement already satisfied: beautifulsoup4 in /Users/vikashgarg/opt/anaconda3/lib/python3.9/site-packages (from nbconvert>=5->notebook>=6.4.10->great_expectations==0.15.31) (4.11.1)\n",
      "Requirement already satisfied: testpath in /Users/vikashgarg/opt/anaconda3/lib/python3.9/site-packages (from nbconvert>=5->notebook>=6.4.10->great_expectations==0.15.31) (0.5.0)\n",
      "Requirement already satisfied: defusedxml in /Users/vikashgarg/opt/anaconda3/lib/python3.9/site-packages (from nbconvert>=5->notebook>=6.4.10->great_expectations==0.15.31) (0.7.1)\n",
      "Requirement already satisfied: bleach in /Users/vikashgarg/opt/anaconda3/lib/python3.9/site-packages (from nbconvert>=5->notebook>=6.4.10->great_expectations==0.15.31) (4.1.0)\n",
      "Requirement already satisfied: jupyterlab-pygments in /Users/vikashgarg/opt/anaconda3/lib/python3.9/site-packages (from nbconvert>=5->notebook>=6.4.10->great_expectations==0.15.31) (0.1.2)\n",
      "Requirement already satisfied: pandocfilters>=1.4.1 in /Users/vikashgarg/opt/anaconda3/lib/python3.9/site-packages (from nbconvert>=5->notebook>=6.4.10->great_expectations==0.15.31) (1.5.0)\n",
      "Requirement already satisfied: nbclient<0.6.0,>=0.5.0 in /Users/vikashgarg/opt/anaconda3/lib/python3.9/site-packages (from nbconvert>=5->notebook>=6.4.10->great_expectations==0.15.31) (0.5.13)\n",
      "Requirement already satisfied: ptyprocess>=0.5 in /Users/vikashgarg/opt/anaconda3/lib/python3.9/site-packages (from pexpect>4.3->Ipython>=7.16.3->great_expectations==0.15.31) (0.7.0)\n",
      "Requirement already satisfied: wcwidth in /Users/vikashgarg/opt/anaconda3/lib/python3.9/site-packages (from prompt-toolkit!=3.0.0,!=3.0.1,<3.1.0,>=2.0.0->Ipython>=7.16.3->great_expectations==0.15.31) (0.2.5)\n",
      "Requirement already satisfied: six>=1.5 in /Users/vikashgarg/opt/anaconda3/lib/python3.9/site-packages (from python-dateutil>=2.8.1->great_expectations==0.15.31) (1.16.0)\n",
      "Requirement already satisfied: idna<4,>=2.5 in /Users/vikashgarg/opt/anaconda3/lib/python3.9/site-packages (from requests>=2.20->great_expectations==0.15.31) (3.3)\n",
      "Requirement already satisfied: certifi>=2017.4.17 in /Users/vikashgarg/opt/anaconda3/lib/python3.9/site-packages (from requests>=2.20->great_expectations==0.15.31) (2022.5.18.1)\n",
      "Requirement already satisfied: charset-normalizer~=2.0.0 in /Users/vikashgarg/opt/anaconda3/lib/python3.9/site-packages (from requests>=2.20->great_expectations==0.15.31) (2.0.4)\n",
      "Requirement already satisfied: ruamel.yaml.clib>=0.1.2 in /Users/vikashgarg/opt/anaconda3/lib/python3.9/site-packages (from ruamel.yaml<0.17.18,>=0.16->great_expectations==0.15.31) (0.2.7)\n",
      "Requirement already satisfied: pytz-deprecation-shim in /Users/vikashgarg/opt/anaconda3/lib/python3.9/site-packages (from tzlocal>=1.2->great_expectations==0.15.31) (0.1.0.post0)\n",
      "Requirement already satisfied: argon2-cffi-bindings in /Users/vikashgarg/opt/anaconda3/lib/python3.9/site-packages (from argon2-cffi->notebook>=6.4.10->great_expectations==0.15.31) (21.2.0)\n",
      "Requirement already satisfied: soupsieve>1.2 in /Users/vikashgarg/opt/anaconda3/lib/python3.9/site-packages (from beautifulsoup4->nbconvert>=5->notebook>=6.4.10->great_expectations==0.15.31) (2.3.1)\n",
      "Requirement already satisfied: webencodings in /Users/vikashgarg/opt/anaconda3/lib/python3.9/site-packages (from bleach->nbconvert>=5->notebook>=6.4.10->great_expectations==0.15.31) (0.5.1)\n",
      "Requirement already satisfied: tzdata in /Users/vikashgarg/opt/anaconda3/lib/python3.9/site-packages (from pytz-deprecation-shim->tzlocal>=1.2->great_expectations==0.15.31) (2022.7)\n",
      "Requirement already satisfied: pure-eval in /Users/vikashgarg/opt/anaconda3/lib/python3.9/site-packages (from stack-data->Ipython>=7.16.3->great_expectations==0.15.31) (0.2.2)\n",
      "Requirement already satisfied: asttokens in /Users/vikashgarg/opt/anaconda3/lib/python3.9/site-packages (from stack-data->Ipython>=7.16.3->great_expectations==0.15.31) (2.0.5)\n",
      "Requirement already satisfied: executing in /Users/vikashgarg/opt/anaconda3/lib/python3.9/site-packages (from stack-data->Ipython>=7.16.3->great_expectations==0.15.31) (0.8.3)\n"
     ]
    }
   ],
   "source": [
    "!pip install great_expectations==0.15.31"
   ]
  },
  {
   "cell_type": "code",
   "execution_count": 3,
   "id": "3326b960",
   "metadata": {},
   "outputs": [],
   "source": [
    "from pyspark.sql import SparkSession"
   ]
  },
  {
   "cell_type": "code",
   "execution_count": 4,
   "id": "7fb3ed9d",
   "metadata": {},
   "outputs": [
    {
     "name": "stdout",
     "output_type": "stream",
     "text": [
      "22/12/12 13:33:30 WARN Utils: Your hostname, Vikashs-MacBook-Air.local resolves to a loopback address: 127.0.0.1; using 192.168.1.8 instead (on interface en0)\n",
      "22/12/12 13:33:30 WARN Utils: Set SPARK_LOCAL_IP if you need to bind to another address\n"
     ]
    },
    {
     "name": "stderr",
     "output_type": "stream",
     "text": [
      "Setting default log level to \"WARN\".\n",
      "To adjust logging level use sc.setLogLevel(newLevel). For SparkR, use setLogLevel(newLevel).\n"
     ]
    },
    {
     "name": "stdout",
     "output_type": "stream",
     "text": [
      "22/12/12 13:33:30 WARN NativeCodeLoader: Unable to load native-hadoop library for your platform... using builtin-java classes where applicable\n"
     ]
    }
   ],
   "source": [
    "spark=SparkSession.builder.appName('ge').getOrCreate()"
   ]
  },
  {
   "cell_type": "code",
   "execution_count": 7,
   "id": "863cfee3",
   "metadata": {},
   "outputs": [
    {
     "data": {
      "text/html": [
       "\n",
       "            <div>\n",
       "                <p><b>SparkSession - in-memory</b></p>\n",
       "                \n",
       "        <div>\n",
       "            <p><b>SparkContext</b></p>\n",
       "\n",
       "            <p><a href=\"http://192.168.1.8:4040\">Spark UI</a></p>\n",
       "\n",
       "            <dl>\n",
       "              <dt>Version</dt>\n",
       "                <dd><code>v3.3.0</code></dd>\n",
       "              <dt>Master</dt>\n",
       "                <dd><code>local[*]</code></dd>\n",
       "              <dt>AppName</dt>\n",
       "                <dd><code>ge</code></dd>\n",
       "            </dl>\n",
       "        </div>\n",
       "        \n",
       "            </div>\n",
       "        "
      ],
      "text/plain": [
       "<pyspark.sql.session.SparkSession at 0x10cec0fa0>"
      ]
     },
     "execution_count": 7,
     "metadata": {},
     "output_type": "execute_result"
    }
   ],
   "source": [
    "spark"
   ]
  },
  {
   "cell_type": "code",
   "execution_count": 8,
   "id": "f85dbd65",
   "metadata": {},
   "outputs": [],
   "source": [
    "from pyspark.sql.functions import *"
   ]
  },
  {
   "cell_type": "code",
   "execution_count": 9,
   "id": "41555125",
   "metadata": {},
   "outputs": [
    {
     "name": "stderr",
     "output_type": "stream",
     "text": [
      "                                                                                \r"
     ]
    }
   ],
   "source": [
    "df=spark.read.format('csv').options(header = \"true\",inferSchema = \"true\", sep = \",\", quote = \"\\\"\", escape = \"\\\"\").load('Dataset.csv')"
   ]
  },
  {
   "cell_type": "code",
   "execution_count": 10,
   "id": "c39aded1",
   "metadata": {},
   "outputs": [
    {
     "name": "stdout",
     "output_type": "stream",
     "text": [
      "+-----------------+----------------+---+------+-------------------+\n",
      "|               ID|            name|age|gender|              email|\n",
      "+-----------------+----------------+---+------+-------------------+\n",
      "|                1|     Peter Poole| 30|  Male|      po@zalowpo.az|\n",
      "|                2|   Herbert Payne| 46|Female|      zos@toilet.bn|\n",
      "|                3|      Callie Roy| 57|  Male|kapkapor@reckeho.ye|\n",
      "|                4|  Isabella Wolfe| 61|Female| atuigome@asedas.io|\n",
      "|                5|     Sara Knight| 53|Female| dudnukob@ucboki.tg|\n",
      "|                6| Raymond Herrera| 23|  Male|       tolpij@ni.lu|\n",
      "|                7|  Jeffery Brooks| 65|  Male|   anirus@ajjuhu.mw|\n",
      "|                8|  Lillie Barnett| 55|  Male|      besi@vodje.hr|\n",
      "|                9|    Emma Alvarez| 21|  Male|          ze@ebo.jm|\n",
      "|               10|  Estella Rhodes| 27|  Male|         ez@jewe.si|\n",
      "|               11|     Eugene West| 18|Female| hohobum@janucke.vn|\n",
      "|               12|     Ollie Blake| 57|  Male|       big@ipjus.dm|\n",
      "|               13|Catherine Oliver| 47|Female|  jakag@lozzivde.eu|\n",
      "|               14|       Vera Boyd| 64|Female|      hifi@ariwu.zm|\n",
      "|               15|   Dylan Hubbard| 65|  Male|        ipren@ra.ml|\n",
      "|               16|      Ada Barber| 65|  Male|      roromo@tum.mh|\n",
      "|               17|      Brett Ford| 46|  Male|       wob@rames.fm|\n",
      "|               18|  Estelle Abbott| 23|Female|   derekic@tokap.ug|\n",
      "|               19|  Derek Gonzalez| 26|Female|    kuhuza@ludoj.be|\n",
      "|               20|Caroline Patrick| 37|Female|      digid@feah.ax|\n",
      "+-----------------+----------------+---+------+-------------------+\n",
      "only showing top 20 rows\n",
      "\n"
     ]
    }
   ],
   "source": [
    "df.show()"
   ]
  },
  {
   "cell_type": "code",
   "execution_count": 11,
   "id": "98047af0",
   "metadata": {},
   "outputs": [],
   "source": [
    "import datetime\n",
    " \n",
    "\n",
    "from ruamel import yaml\n",
    "from great_expectations import *\n",
    "from great_expectations.core.batch import RuntimeBatchRequest\n",
    "from great_expectations.data_context import BaseDataContext\n",
    "from great_expectations.data_context.types.base import (\n",
    "    DataContextConfig,\n",
    "    FilesystemStoreBackendDefaults,\n",
    ")\n",
    " \n",
    "root_directory = \"/Users/vikashgarg/Downloads/ge\""
   ]
  },
  {
   "cell_type": "code",
   "execution_count": 12,
   "id": "bb4880a7",
   "metadata": {},
   "outputs": [],
   "source": [
    "\n",
    "#create Data Context\n",
    "data_context_config = DataContextConfig(\n",
    "    store_backend_defaults=FilesystemStoreBackendDefaults(\n",
    "        root_directory=root_directory\n",
    "    ),\n",
    ")\n",
    "context = BaseDataContext(project_config=data_context_config)"
   ]
  },
  {
   "cell_type": "code",
   "execution_count": 13,
   "id": "9f08b09b",
   "metadata": {},
   "outputs": [
    {
     "name": "stdout",
     "output_type": "stream",
     "text": [
      "Attempting to instantiate class from config...\n",
      "\tInstantiating as a Datasource, since class_name is Datasource\n",
      "22/12/12 13:20:31 WARN SparkSession: Using an existing Spark session; only runtime SQL configurations will take effect.\n",
      "\tSuccessfully instantiated Datasource\n",
      "\n",
      "\n",
      "ExecutionEngine class name: SparkDFExecutionEngine\n",
      "Data Connectors:\n",
      "\tinsert_your_data_connector_name_here:RuntimeDataConnector\n",
      "\n",
      "\tAvailable data_asset_names (0 of 0):\n",
      "\t\tNote : RuntimeDataConnector will not have data_asset_names until they are passed in through RuntimeBatchRequest\n",
      "\n",
      "\tUnmatched data_references (0 of 0): []\n",
      "\n"
     ]
    }
   ],
   "source": [
    "\n",
    "my_spark_datasource_config = {\n",
    "    \"name\": \"insert_your_datasource_name_here\",\n",
    "    \"class_name\": \"Datasource\",\n",
    "    \"execution_engine\": {\"class_name\": \"SparkDFExecutionEngine\"},\n",
    "    \"data_connectors\": {\n",
    "        \"insert_your_data_connector_name_here\": {\n",
    "            \"module_name\": \"great_expectations.datasource.data_connector\",\n",
    "            \"class_name\": \"RuntimeDataConnector\",\n",
    "            \"batch_identifiers\": [\n",
    "                \"some_key_maybe_pipeline_stage\",\n",
    "                \"some_other_key_maybe_run_id\",\n",
    "            ],\n",
    "        }\n",
    "    },\n",
    "}\n",
    "context.test_yaml_config(yaml.dump(my_spark_datasource_config))\n",
    " \n",
    "context.add_datasource(**my_spark_datasource_config)\n",
    " \n",
    "batch_request = RuntimeBatchRequest(\n",
    "    datasource_name=\"insert_your_datasource_name_here\",\n",
    "    data_connector_name=\"insert_your_data_connector_name_here\",\n",
    "    data_asset_name=\"<YOUR_MEANGINGFUL_NAME>\",  # This can be anything that identifies this data_asset for you\n",
    "    batch_identifiers={\n",
    "        \"some_key_maybe_pipeline_stage\": \"prod\",\n",
    "        \"some_other_key_maybe_run_id\": f\"my_run_name_{datetime.date.today().strftime('%Y%m%d')}\",\n",
    "    },\n",
    "    runtime_parameters={\"batch_data\": df},  \n",
    ")\n",
    "expectation_suite_name = \"insert_your_expectation_suite_name_here\"\n",
    "context.create_expectation_suite(\n",
    "    expectation_suite_name=expectation_suite_name, overwrite_existing=True\n",
    ")\n",
    "validator = context.get_validator(\n",
    "    batch_request=batch_request,\n",
    "    expectation_suite_name=expectation_suite_name,\n",
    ")"
   ]
  },
  {
   "cell_type": "code",
   "execution_count": 14,
   "id": "abefa803",
   "metadata": {},
   "outputs": [
    {
     "name": "stdout",
     "output_type": "stream",
     "text": [
      "22/12/12 13:20:40 WARN SparkSession: Using an existing Spark session; only runtime SQL configurations will take effect.\n"
     ]
    },
    {
     "data": {
      "application/vnd.jupyter.widget-view+json": {
       "model_id": "cc6d2400ae07427cabc5ffc9de8be486",
       "version_major": 2,
       "version_minor": 0
      },
      "text/plain": [
       "Calculating Metrics:   0%|          | 0/9 [00:00<?, ?it/s]"
      ]
     },
     "metadata": {},
     "output_type": "display_data"
    },
    {
     "data": {
      "application/vnd.jupyter.widget-view+json": {
       "model_id": "9c95f1219c5a4819a37321686d010766",
       "version_major": 2,
       "version_minor": 0
      },
      "text/plain": [
       "Calculating Metrics:   0%|          | 0/9 [00:00<?, ?it/s]"
      ]
     },
     "metadata": {},
     "output_type": "display_data"
    },
    {
     "data": {
      "application/vnd.jupyter.widget-view+json": {
       "model_id": "d690df164f63454ab782c0d28acc35b0",
       "version_major": 2,
       "version_minor": 0
      },
      "text/plain": [
       "Calculating Metrics:   0%|          | 0/9 [00:00<?, ?it/s]"
      ]
     },
     "metadata": {},
     "output_type": "display_data"
    },
    {
     "data": {
      "application/vnd.jupyter.widget-view+json": {
       "model_id": "e8c58e8a086b47b8b111efb613c1c35d",
       "version_major": 2,
       "version_minor": 0
      },
      "text/plain": [
       "Calculating Metrics:   0%|          | 0/9 [00:00<?, ?it/s]"
      ]
     },
     "metadata": {},
     "output_type": "display_data"
    },
    {
     "name": "stdout",
     "output_type": "stream",
     "text": [
      "Traceback (most recent call last):\n",
      "  File \"/Users/vikashgarg/opt/anaconda3/lib/python3.9/site-packages/great_expectations/self_check/util.py\", line 2774, in evaluate_json_test_v3_api\n",
      "    check_json_test_result(\n",
      "  File \"/Users/vikashgarg/opt/anaconda3/lib/python3.9/site-packages/great_expectations/self_check/util.py\", line 2941, in check_json_test_result\n",
      "    assert result[\"result\"][\"unexpected_list\"] == value, (\n",
      "AssertionError: expected ['aaaa@a123.a', 'aaaa@a123.d', 'aaaa@a123.e'] but got ['@a123.com', '@a123.eu', '@a123.io']\n",
      "\n"
     ]
    },
    {
     "data": {
      "application/vnd.jupyter.widget-view+json": {
       "model_id": "52acca368a744723af57627a8ee0b10e",
       "version_major": 2,
       "version_minor": 0
      },
      "text/plain": [
       "Calculating Metrics:   0%|          | 0/9 [00:00<?, ?it/s]"
      ]
     },
     "metadata": {},
     "output_type": "display_data"
    },
    {
     "data": {
      "application/vnd.jupyter.widget-view+json": {
       "model_id": "141b4a56cf3e4049bf0c0ad3fea6996f",
       "version_major": 2,
       "version_minor": 0
      },
      "text/plain": [
       "Calculating Metrics:   0%|          | 0/9 [00:00<?, ?it/s]"
      ]
     },
     "metadata": {},
     "output_type": "display_data"
    },
    {
     "data": {
      "application/vnd.jupyter.widget-view+json": {
       "model_id": "e731dc9dff224529a6099332dc62baf8",
       "version_major": 2,
       "version_minor": 0
      },
      "text/plain": [
       "Calculating Metrics:   0%|          | 0/9 [00:00<?, ?it/s]"
      ]
     },
     "metadata": {},
     "output_type": "display_data"
    },
    {
     "name": "stdout",
     "output_type": "stream",
     "text": [
      "Traceback (most recent call last):\n",
      "  File \"/Users/vikashgarg/opt/anaconda3/lib/python3.9/site-packages/great_expectations/self_check/util.py\", line 2774, in evaluate_json_test_v3_api\n",
      "    check_json_test_result(\n",
      "  File \"/Users/vikashgarg/opt/anaconda3/lib/python3.9/site-packages/great_expectations/self_check/util.py\", line 2878, in check_json_test_result\n",
      "    assert result[\"success\"] == value, f\"{result['success']} != {value}\"\n",
      "AssertionError: False != True\n",
      "\n"
     ]
    },
    {
     "data": {
      "application/vnd.jupyter.widget-view+json": {
       "model_id": "528020e9775d442dbe218c869b90b256",
       "version_major": 2,
       "version_minor": 0
      },
      "text/plain": [
       "Calculating Metrics:   0%|          | 0/9 [00:00<?, ?it/s]"
      ]
     },
     "metadata": {},
     "output_type": "display_data"
    },
    {
     "data": {
      "application/vnd.jupyter.widget-view+json": {
       "model_id": "7e09035c596a43588cc8bd51fafb4da0",
       "version_major": 2,
       "version_minor": 0
      },
      "text/plain": [
       "Calculating Metrics:   0%|          | 0/11 [00:00<?, ?it/s]"
      ]
     },
     "metadata": {},
     "output_type": "display_data"
    },
    {
     "name": "stderr",
     "output_type": "stream",
     "text": [
      "                                                                                \r"
     ]
    },
    {
     "data": {
      "application/vnd.jupyter.widget-view+json": {
       "model_id": "78991b89408940a7b269178ec54143a8",
       "version_major": 2,
       "version_minor": 0
      },
      "text/plain": [
       "Calculating Metrics:   0%|          | 0/11 [00:00<?, ?it/s]"
      ]
     },
     "metadata": {},
     "output_type": "display_data"
    },
    {
     "data": {
      "application/vnd.jupyter.widget-view+json": {
       "model_id": "518c33b555e34cc0919b6d5179adbcdc",
       "version_major": 2,
       "version_minor": 0
      },
      "text/plain": [
       "Calculating Metrics:   0%|          | 0/11 [00:00<?, ?it/s]"
      ]
     },
     "metadata": {},
     "output_type": "display_data"
    },
    {
     "data": {
      "application/vnd.jupyter.widget-view+json": {
       "model_id": "08130d00f303497085b827bc2137af26",
       "version_major": 2,
       "version_minor": 0
      },
      "text/plain": [
       "Calculating Metrics:   0%|          | 0/11 [00:00<?, ?it/s]"
      ]
     },
     "metadata": {},
     "output_type": "display_data"
    },
    {
     "name": "stdout",
     "output_type": "stream",
     "text": [
      "Traceback (most recent call last):\n",
      "  File \"/Users/vikashgarg/opt/anaconda3/lib/python3.9/site-packages/great_expectations/self_check/util.py\", line 2774, in evaluate_json_test_v3_api\n",
      "    check_json_test_result(\n",
      "  File \"/Users/vikashgarg/opt/anaconda3/lib/python3.9/site-packages/great_expectations/self_check/util.py\", line 2941, in check_json_test_result\n",
      "    assert result[\"result\"][\"unexpected_list\"] == value, (\n",
      "AssertionError: expected ['aaaa@a123.a', 'aaaa@a123.d', 'aaaa@a123.e'] but got ['@a123.com', '@a123.eu', '@a123.io']\n",
      "\n"
     ]
    },
    {
     "data": {
      "application/vnd.jupyter.widget-view+json": {
       "model_id": "68cbfb23977242089d4e2b2f7e548f25",
       "version_major": 2,
       "version_minor": 0
      },
      "text/plain": [
       "Calculating Metrics:   0%|          | 0/11 [00:00<?, ?it/s]"
      ]
     },
     "metadata": {},
     "output_type": "display_data"
    },
    {
     "data": {
      "application/vnd.jupyter.widget-view+json": {
       "model_id": "7ae3d7398a1d444ea296e4ea8fd2c734",
       "version_major": 2,
       "version_minor": 0
      },
      "text/plain": [
       "Calculating Metrics:   0%|          | 0/11 [00:00<?, ?it/s]"
      ]
     },
     "metadata": {},
     "output_type": "display_data"
    },
    {
     "data": {
      "application/vnd.jupyter.widget-view+json": {
       "model_id": "603f6e5c22514754b7bb55a7ea221f35",
       "version_major": 2,
       "version_minor": 0
      },
      "text/plain": [
       "Calculating Metrics:   0%|          | 0/11 [00:00<?, ?it/s]"
      ]
     },
     "metadata": {},
     "output_type": "display_data"
    },
    {
     "data": {
      "application/vnd.jupyter.widget-view+json": {
       "model_id": "e34b9fc3f91d424982a9573085e7e06c",
       "version_major": 2,
       "version_minor": 0
      },
      "text/plain": [
       "Calculating Metrics:   0%|          | 0/11 [00:00<?, ?it/s]"
      ]
     },
     "metadata": {},
     "output_type": "display_data"
    },
    {
     "name": "stdout",
     "output_type": "stream",
     "text": [
      "3 5 3 False\n",
      "Completeness checklist for ExpectColumnValuesToContainValidEmail (EXPERIMENTAL):\n",
      " ✔ Has a valid library_metadata object\n",
      "   Has a docstring, including a one-line short description\n",
      "   Has at least one positive and negative example case, and all test cases pass\n",
      "   Has core logic and passes tests on at least one Execution Engine\n",
      "   Passes all linting checks\n",
      "      inspect.getfile(impl) raised a TypeError (impl is a built-in class)\n",
      "   Has basic input validation and type checking\n",
      "      No validate_configuration method defined on subclass\n",
      " ✔ Has both statement Renderers: prescriptive and diagnostic\n",
      "   Has core logic that passes tests for all applicable Execution Engines and SQL dialects\n",
      "      Only 6 / 8 tests for pandas are passing\n",
      "        - Failing: negative_test_for_emails_with_no_leading_string, valid_emails\n",
      "      Only 7 / 8 tests for spark are passing\n",
      "        - Failing: negative_test_for_emails_with_no_leading_string\n",
      "   Has a full suite of tests, as determined by a code owner\n",
      "   Has passed a manual review by a code owner for code standards and style guides\n",
      "\n"
     ]
    }
   ],
   "source": [
    "# Databricks notebook source\n",
    "import json\n",
    "import re  # regular expressions\n",
    "\n",
    "# !!! This giant block of imports should be something simpler, such as:\n",
    "from great_expectations import *\n",
    "from great_expectations.execution_engine import (\n",
    "    PandasExecutionEngine,\n",
    "    SparkDFExecutionEngine,\n",
    "    SqlAlchemyExecutionEngine,\n",
    ")\n",
    "from great_expectations.expectations.expectation import (\n",
    "    ColumnMapExpectation,\n",
    "    Expectation,\n",
    "    ExpectationConfiguration,\n",
    ")\n",
    "from great_expectations.expectations.metrics import (\n",
    "    ColumnMapMetricProvider,\n",
    "    column_condition_partial,\n",
    ")\n",
    "from great_expectations.expectations.registry import (\n",
    "    _registered_expectations,\n",
    "    _registered_metrics,\n",
    "    _registered_renderers,\n",
    ")\n",
    "from great_expectations.expectations.util import render_evaluation_parameter_string\n",
    "from great_expectations.render.renderer.renderer import renderer\n",
    "from great_expectations.render.types import RenderedStringTemplateContent\n",
    "from great_expectations.render.util import num_to_str, substitute_none_for_missing\n",
    "from great_expectations.validator.validator import Validator\n",
    "\n",
    "EMAIL_REGEX = r\"[a-z0-9]+[\\._]?[a-z0-9]+[@]\\w+[.]\\w{2,7}$\"\n",
    "\n",
    "\n",
    "class ColumnValuesContainValidEmail(ColumnMapMetricProvider):\n",
    "    # This is the id string that will be used to reference your metric.\n",
    "    condition_metric_name = \"column_values.valid_email\"\n",
    "    condition_value_keys = ()\n",
    "\n",
    "    # This method defines the business logic for evaluating your metric when using a PandasExecutionEngine\n",
    "    @column_condition_partial(engine=PandasExecutionEngine)\n",
    "    def _pandas(cls, column, **kwargs):\n",
    "        def matches_email_regex(x):\n",
    "            if re.match(EMAIL_REGEX, str(x)):\n",
    "                return True\n",
    "            return False\n",
    "\n",
    "        return column.apply(lambda x: matches_email_regex(x) if x else False)\n",
    "\n",
    "    # This method defines the business logic for evaluating your metric when using a SqlAlchemyExecutionEngine\n",
    "    #     @column_condition_partial(engine=SqlAlchemyExecutionEngine)\n",
    "    #     def _sqlalchemy(cls, column, _dialect, **kwargs):\n",
    "    #         return column.in_([3])\n",
    "\n",
    "    # This method defines the business logic for evaluating your metric when using a SparkDFExecutionEngine\n",
    "    @column_condition_partial(engine=SparkDFExecutionEngine)\n",
    "    def _spark(cls, column, **kwargs):\n",
    "        return column.rlike(EMAIL_REGEX)\n",
    "\n",
    "\n",
    "# This class defines the Expectation itself\n",
    "# The main business logic for calculation lives here.\n",
    "class ExpectColumnValuesToContainValidEmail(ColumnMapExpectation):\n",
    "    # These examples will be shown in the public gallery, and also executed as unit tests for your Expectation\n",
    "    examples = [\n",
    "        {\n",
    "            \"data\": {\n",
    "                \"fail_case_1\": [\"a123@something\", \"a123@something.\", \"a123.\"],\n",
    "                \"fail_case_2\": [\"aaaa.a123.co\", \"aaaa.a123.\", \"aaaa.a123.com\"],\n",
    "                \"fail_case_3\": [\"aaaa@a123.e\", \"aaaa@a123.a\", \"aaaa@a123.d\"],\n",
    "                \"fail_case_4\": [\"@a123.com\", \"@a123.io\", \"@a123.eu\"],\n",
    "                \"pass_case_1\": [\n",
    "                    \"a123@something.com\",\n",
    "                    \"vinod.km@something.au\",\n",
    "                    \"this@better.work\",\n",
    "                ],\n",
    "                \"pass_case_2\": [\n",
    "                    \"example@website.dom\",\n",
    "                    \"ex.ample@example.ex\",\n",
    "                    \"great@expectations.email\",\n",
    "                ],\n",
    "                \"valid_emails\": [\n",
    "                    \"Janedoe@company.org\",\n",
    "                    \"someone123@stuff.net\",\n",
    "                    \"mycompany@mycompany.com\",\n",
    "                ],\n",
    "                \"bad_emails\": [\"Hello, world!\", \"Sophia\", \"this should fail\"],\n",
    "            },\n",
    "            \"tests\": [\n",
    "                {\n",
    "                    \"title\": \"negative_test_for_no_domain_name\",\n",
    "                    \"exact_match_out\": False,\n",
    "                    \"include_in_gallery\": True,\n",
    "                    \"in\": {\"column\": \"fail_case_1\"},\n",
    "                    \"out\": {\n",
    "                        \"success\": False,\n",
    "                        \"unexpected_index_list\": [0, 1, 2],\n",
    "                        \"unexpected_list\": [\n",
    "                            \"a123@something\",\n",
    "                            \"a123@something.\",\n",
    "                            \"a123.\",\n",
    "                        ],\n",
    "                    },\n",
    "                },\n",
    "                {\n",
    "                    \"title\": \"negative_test_for_no_at_symbol\",\n",
    "                    \"exact_match_out\": False,\n",
    "                    \"include_in_gallery\": True,\n",
    "                    \"in\": {\"column\": \"fail_case_2\"},\n",
    "                    \"out\": {\n",
    "                        \"success\": False,\n",
    "                        \"unexpected_index_list\": [0, 1, 2],\n",
    "                        \"unexpected_list\": [\n",
    "                            \"aaaa.a123.co\",\n",
    "                            \"aaaa.a123.\",\n",
    "                            \"aaaa.a123.com\",\n",
    "                        ],\n",
    "                    },\n",
    "                },\n",
    "                {\n",
    "                    \"title\": \"negative_test_for_ending_with_one_character\",\n",
    "                    \"exact_match_out\": False,\n",
    "                    \"include_in_gallery\": True,\n",
    "                    \"in\": {\"column\": \"fail_case_3\"},\n",
    "                    \"out\": {\n",
    "                        \"success\": False,\n",
    "                        \"unexpected_index_list\": [0, 1, 2],\n",
    "                        \"unexpected_list\": [\n",
    "                            \"aaaa@a123.e\",\n",
    "                            \"aaaa@a123.a\",\n",
    "                            \"aaaa@a123.d\",\n",
    "                        ],\n",
    "                    },\n",
    "                },\n",
    "                {\n",
    "                    \"title\": \"negative_test_for_emails_with_no_leading_string\",\n",
    "                    \"exact_match_out\": False,\n",
    "                    \"include_in_gallery\": True,\n",
    "                    \"in\": {\"column\": \"fail_case_4\"},\n",
    "                    \"out\": {\n",
    "                        \"success\": False,\n",
    "                        \"unexpected_index_list\": [0, 1, 2],\n",
    "                        \"unexpected_list\": [\n",
    "                            \"aaaa@a123.e\",\n",
    "                            \"aaaa@a123.a\",\n",
    "                            \"aaaa@a123.d\",\n",
    "                        ],\n",
    "                    },\n",
    "                },\n",
    "                {\n",
    "                    \"title\": \"pass_test\",\n",
    "                    \"exact_match_out\": False,\n",
    "                    \"include_in_gallery\": True,\n",
    "                    \"in\": {\"column\": \"pass_case_1\"},\n",
    "                    \"out\": {\n",
    "                        \"success\": True,\n",
    "                        \"unexpected_index_list\": [],\n",
    "                        \"unexpected_list\": [],\n",
    "                    },\n",
    "                },\n",
    "                {\n",
    "                    \"title\": \"pass_test\",\n",
    "                    \"exact_match_out\": False,\n",
    "                    \"include_in_gallery\": True,\n",
    "                    \"in\": {\"column\": \"pass_case_2\"},\n",
    "                    \"out\": {\n",
    "                        \"success\": True,\n",
    "                        \"unexpected_index_list\": [],\n",
    "                        \"unexpected_list\": [],\n",
    "                    },\n",
    "                },\n",
    "                {\n",
    "                    \"title\": \"valid_emails\",\n",
    "                    \"exact_match_out\": False,\n",
    "                    \"include_in_gallery\": True,\n",
    "                    \"in\": {\"column\": \"valid_emails\"},\n",
    "                    \"out\": {\n",
    "                        \"success\": True,\n",
    "                        \"unexpected_index_list\": [],\n",
    "                        \"unexpected_list\": [],\n",
    "                    },\n",
    "                },\n",
    "                {\n",
    "                    \"title\": \"invalid_emails\",\n",
    "                    \"exact_match_out\": False,\n",
    "                    \"include_in_gallery\": True,\n",
    "                    \"in\": {\"column\": \"bad_emails\"},\n",
    "                    \"out\": {\n",
    "                        \"success\": False,\n",
    "                        \"unexpected_index_list\": [0, 1, 2],\n",
    "                        \"unexpected_list\": [\n",
    "                            \"Hello, world!\",\n",
    "                            \"Sophia\",\n",
    "                            \"this should fail\",\n",
    "                        ],\n",
    "                    },\n",
    "                },\n",
    "            ],\n",
    "        }\n",
    "    ]\n",
    "\n",
    "    # This dictionary contains metadata for display in the public gallery\n",
    "    library_metadata = {\n",
    "        \"maturity\": \"experimental\",\n",
    "        \"tags\": [\"experimental\", \"column map expectation\"],\n",
    "        \"contributors\": [  # Github\n",
    "            \"@aworld1\",\n",
    "            \"@enagola\",\n",
    "            \"@spencerhardwick\",\n",
    "            \"@vinodkri1\",\n",
    "            \"@degulati\",\n",
    "            \"@ljohnston931\",\n",
    "            \"@rexboyce\",\n",
    "            \"@lodeous\",\n",
    "            \"@sophiarawlings\",\n",
    "            \"@vtdangg\",\n",
    "        ],\n",
    "    }\n",
    "\n",
    "    # This is the id string of the Metric used by this Expectation.\n",
    "    # For most Expectations, it will be the same as the `condition_metric_name` defined in your Metric class above.\n",
    "    map_metric = \"column_values.valid_email\"\n",
    "\n",
    "    # This is a list of parameter names that can affect whether the Expectation evaluates to True or False\n",
    "    # Please see {some doc} for more information about domain and success keys, and other arguments to Expectations\n",
    "    success_keys = ()\n",
    "\n",
    "    # This dictionary contains default values for any parameters that should have default values\n",
    "    default_kwarg_values = {}\n",
    "\n",
    "    # This method defines a question Renderer\n",
    "    # For more info on Renderers, see {some doc}\n",
    "    # !!! This example renderer should render RenderedStringTemplateContent, not just a string\n",
    "\n",
    "\n",
    "#     @classmethod\n",
    "#     @renderer(renderer_type=\"renderer.question\")\n",
    "#     def _question_renderer(\n",
    "#         cls, configuration, result=None, language=None, runtime_configuration=None\n",
    "#     ):\n",
    "#         column = configuration.kwargs.get(\"column\")\n",
    "#         mostly = configuration.kwargs.get(\"mostly\")\n",
    "\n",
    "#         return f'Do at least {mostly * 100}% of values in column \"{column}\" equal 3?'\n",
    "\n",
    "# This method defines an answer Renderer\n",
    "# !!! This example renderer should render RenderedStringTemplateContent, not just a string\n",
    "#     @classmethod\n",
    "#     @renderer(renderer_type=\"renderer.answer\")\n",
    "#     def _answer_renderer(\n",
    "#         cls, configuration=None, result=None, language=None, runtime_configuration=None\n",
    "#     ):\n",
    "#         column = result.expectation_config.kwargs.get(\"column\")\n",
    "#         mostly = result.expectation_config.kwargs.get(\"mostly\")\n",
    "#         regex = result.expectation_config.kwargs.get(\"regex\")\n",
    "#         if result.success:\n",
    "#             return f'At least {mostly * 100}% of values in column \"{column}\" equal 3.'\n",
    "#         else:\n",
    "#             return f'Less than {mostly * 100}% of values in column \"{column}\" equal 3.'\n",
    "\n",
    "# This method defines a prescriptive Renderer\n",
    "#     @classmethod\n",
    "#     @renderer(renderer_type=\"renderer.prescriptive\")\n",
    "#     @render_evaluation_parameter_string\n",
    "#     def _prescriptive_renderer(\n",
    "#         cls,\n",
    "#         configuration=None,\n",
    "#         result=None,\n",
    "#         language=None,\n",
    "#         runtime_configuration=None,\n",
    "#         **kwargs,\n",
    "#     ):\n",
    "# !!! This example renderer should be shorter\n",
    "#         runtime_configuration = runtime_configuration or {}\n",
    "#         include_column_name = runtime_configuration.get(\"include_column_name\", True)\n",
    "#         include_column_name = (\n",
    "#             include_column_name if include_column_name is not None else True\n",
    "#         )\n",
    "#         styling = runtime_configuration.get(\"styling\")\n",
    "#         params = substitute_none_for_missing(\n",
    "#             configuration.kwargs,\n",
    "#             [\"column\", \"regex\", \"mostly\", \"row_condition\", \"condition_parser\"],\n",
    "#         )\n",
    "\n",
    "#         template_str = \"values must be equal to 3\"\n",
    "#         if params[\"mostly\"] is not None:\n",
    "#             params[\"mostly_pct\"] = num_to_str(\n",
    "#                 params[\"mostly\"] * 100, precision=15, no_scientific=True\n",
    "#             )\n",
    "#             # params[\"mostly_pct\"] = \"{:.14f}\".format(params[\"mostly\"]*100).rstrip(\"0\").rstrip(\".\")\n",
    "#             template_str += \", at least $mostly_pct % of the time.\"\n",
    "#         else:\n",
    "#             template_str += \".\"\n",
    "\n",
    "#         if include_column_name:\n",
    "#             template_str = \"$column \" + template_str\n",
    "\n",
    "#         if params[\"row_condition\"] is not None:\n",
    "#             (\n",
    "#                 conditional_template_str,\n",
    "#                 conditional_params,\n",
    "#             ) = parse_row_condition_string_pandas_engine(params[\"row_condition\"])\n",
    "#             template_str = conditional_template_str + \", then \" + template_str\n",
    "#             params.update(conditional_params)\n",
    "\n",
    "#         return [\n",
    "#             RenderedStringTemplateContent(\n",
    "#                 **{\n",
    "#                     \"content_block_type\": \"string_template\",\n",
    "#                     \"string_template\": {\n",
    "#                         \"template\": template_str,\n",
    "#                         \"params\": params,\n",
    "#                         \"styling\": styling,\n",
    "#                     },\n",
    "#                 }\n",
    "#             )\n",
    "#         ]\n",
    "\n",
    "if __name__ == \"__main__\":\n",
    "    ExpectColumnValuesToContainValidEmail().print_diagnostic_checklist()\n",
    "\n",
    "# COMMAND ----------\n",
    "\n",
    "\n"
   ]
  },
  {
   "cell_type": "code",
   "execution_count": 15,
   "id": "888d7a9c",
   "metadata": {},
   "outputs": [
    {
     "ename": "AttributeError",
     "evalue": "module 'great_expectations.validator' has no attribute 'expect_column_values_to_contain_valid_email'",
     "output_type": "error",
     "traceback": [
      "\u001b[0;31m---------------------------------------------------------------------------\u001b[0m",
      "\u001b[0;31mAttributeError\u001b[0m                            Traceback (most recent call last)",
      "Input \u001b[0;32mIn [15]\u001b[0m, in \u001b[0;36m<cell line: 1>\u001b[0;34m()\u001b[0m\n\u001b[0;32m----> 1\u001b[0m \u001b[43mvalidator\u001b[49m\u001b[38;5;241;43m.\u001b[39;49m\u001b[43mexpect_column_values_to_contain_valid_email\u001b[49m(column\u001b[38;5;241m=\u001b[39m\u001b[38;5;124m\"\u001b[39m\u001b[38;5;124memail\u001b[39m\u001b[38;5;124m\"\u001b[39m)\n",
      "\u001b[0;31mAttributeError\u001b[0m: module 'great_expectations.validator' has no attribute 'expect_column_values_to_contain_valid_email'"
     ]
    }
   ],
   "source": [
    "validator.expect_column_values_to_contain_valid_email(column=\"email\")"
   ]
  },
  {
   "cell_type": "code",
   "execution_count": 33,
   "id": "766409f2",
   "metadata": {},
   "outputs": [
    {
     "ename": "AttributeError",
     "evalue": "module 'great_expectations.validator' has no attribute 'expect_column_values_to_be_unique'",
     "output_type": "error",
     "traceback": [
      "\u001b[0;31m---------------------------------------------------------------------------\u001b[0m",
      "\u001b[0;31mAttributeError\u001b[0m                            Traceback (most recent call last)",
      "Input \u001b[0;32mIn [33]\u001b[0m, in \u001b[0;36m<cell line: 1>\u001b[0;34m()\u001b[0m\n\u001b[0;32m----> 1\u001b[0m \u001b[43mvalidator\u001b[49m\u001b[38;5;241;43m.\u001b[39;49m\u001b[43mexpect_column_values_to_be_unique\u001b[49m(column\u001b[38;5;241m=\u001b[39m\u001b[38;5;124m\"\u001b[39m\u001b[38;5;124mID\u001b[39m\u001b[38;5;124m\"\u001b[39m)\n",
      "\u001b[0;31mAttributeError\u001b[0m: module 'great_expectations.validator' has no attribute 'expect_column_values_to_be_unique'"
     ]
    }
   ],
   "source": [
    "validator."
   ]
  },
  {
   "cell_type": "code",
   "execution_count": 17,
   "id": "74bffb8a",
   "metadata": {},
   "outputs": [],
   "source": [
    "import great_expectations as ge\n",
    "import os\n",
    "from great_expectations.profile.basic_dataset_profiler import BasicDatasetProfiler\n",
    "from great_expectations.profile.user_configurable_profiler import UserConfigurableProfiler\n",
    "from great_expectations.dataset.sparkdf_dataset import SparkDFDataset\n",
    "from great_expectations.render.renderer import *\n",
    "from great_expectations.render.view import DefaultJinjaPageView\n",
    "from great_expectations.data_context.util import *\n",
    "from IPython.display import display\n",
    "from IPython.core.display import HTML\n",
    "\n"
   ]
  },
  {
   "cell_type": "code",
   "execution_count": 18,
   "id": "9baf558c",
   "metadata": {},
   "outputs": [
    {
     "ename": "Py4JJavaError",
     "evalue": "An error occurred while calling o33.persist.\n: java.lang.IllegalStateException: Cannot call methods on a stopped SparkContext.\nThis stopped SparkContext was created at:\n\norg.apache.spark.api.java.JavaSparkContext.<init>(JavaSparkContext.scala:58)\nsun.reflect.NativeConstructorAccessorImpl.newInstance0(Native Method)\nsun.reflect.NativeConstructorAccessorImpl.newInstance(NativeConstructorAccessorImpl.java:62)\nsun.reflect.DelegatingConstructorAccessorImpl.newInstance(DelegatingConstructorAccessorImpl.java:45)\njava.lang.reflect.Constructor.newInstance(Constructor.java:423)\npy4j.reflection.MethodInvoker.invoke(MethodInvoker.java:247)\npy4j.reflection.ReflectionEngine.invoke(ReflectionEngine.java:357)\npy4j.Gateway.invoke(Gateway.java:238)\npy4j.commands.ConstructorCommand.invokeConstructor(ConstructorCommand.java:80)\npy4j.commands.ConstructorCommand.execute(ConstructorCommand.java:69)\npy4j.ClientServerConnection.waitForCommands(ClientServerConnection.java:182)\npy4j.ClientServerConnection.run(ClientServerConnection.java:106)\njava.lang.Thread.run(Thread.java:748)\n\nThe currently active SparkContext was created at:\n\norg.apache.spark.api.java.JavaSparkContext.<init>(JavaSparkContext.scala:58)\nsun.reflect.NativeConstructorAccessorImpl.newInstance0(Native Method)\nsun.reflect.NativeConstructorAccessorImpl.newInstance(NativeConstructorAccessorImpl.java:62)\nsun.reflect.DelegatingConstructorAccessorImpl.newInstance(DelegatingConstructorAccessorImpl.java:45)\njava.lang.reflect.Constructor.newInstance(Constructor.java:423)\npy4j.reflection.MethodInvoker.invoke(MethodInvoker.java:247)\npy4j.reflection.ReflectionEngine.invoke(ReflectionEngine.java:357)\npy4j.Gateway.invoke(Gateway.java:238)\npy4j.commands.ConstructorCommand.invokeConstructor(ConstructorCommand.java:80)\npy4j.commands.ConstructorCommand.execute(ConstructorCommand.java:69)\npy4j.ClientServerConnection.waitForCommands(ClientServerConnection.java:182)\npy4j.ClientServerConnection.run(ClientServerConnection.java:106)\njava.lang.Thread.run(Thread.java:748)\n         \n\tat org.apache.spark.SparkContext.assertNotStopped(SparkContext.scala:120)\n\tat org.apache.spark.sql.SparkSession.<init>(SparkSession.scala:113)\n\tat org.apache.spark.sql.SparkSession.cloneSession(SparkSession.scala:276)\n\tat org.apache.spark.sql.SparkSession$.getOrCloneSessionWithConfigsOff(SparkSession.scala:1111)\n\tat org.apache.spark.sql.execution.CacheManager.getOrCloneSessionWithConfigsOff(CacheManager.scala:338)\n\tat org.apache.spark.sql.execution.CacheManager.cacheQuery(CacheManager.scala:118)\n\tat org.apache.spark.sql.execution.CacheManager.cacheQuery(CacheManager.scala:92)\n\tat org.apache.spark.sql.Dataset.persist(Dataset.scala:3342)\n\tat sun.reflect.NativeMethodAccessorImpl.invoke0(Native Method)\n\tat sun.reflect.NativeMethodAccessorImpl.invoke(NativeMethodAccessorImpl.java:62)\n\tat sun.reflect.DelegatingMethodAccessorImpl.invoke(DelegatingMethodAccessorImpl.java:43)\n\tat java.lang.reflect.Method.invoke(Method.java:498)\n\tat py4j.reflection.MethodInvoker.invoke(MethodInvoker.java:244)\n\tat py4j.reflection.ReflectionEngine.invoke(ReflectionEngine.java:357)\n\tat py4j.Gateway.invoke(Gateway.java:282)\n\tat py4j.commands.AbstractCommand.invokeMethod(AbstractCommand.java:132)\n\tat py4j.commands.CallCommand.execute(CallCommand.java:79)\n\tat py4j.ClientServerConnection.waitForCommands(ClientServerConnection.java:182)\n\tat py4j.ClientServerConnection.run(ClientServerConnection.java:106)\n\tat java.lang.Thread.run(Thread.java:748)\n",
     "output_type": "error",
     "traceback": [
      "\u001b[0;31m---------------------------------------------------------------------------\u001b[0m",
      "\u001b[0;31mPy4JJavaError\u001b[0m                             Traceback (most recent call last)",
      "Input \u001b[0;32mIn [18]\u001b[0m, in \u001b[0;36m<cell line: 4>\u001b[0;34m()\u001b[0m\n\u001b[1;32m      1\u001b[0m \u001b[38;5;66;03m# read the df\u001b[39;00m\n\u001b[1;32m      2\u001b[0m \n\u001b[1;32m      3\u001b[0m \u001b[38;5;66;03m# gdf = ge.from_pandas(df)\u001b[39;00m\n\u001b[0;32m----> 4\u001b[0m gdf \u001b[38;5;241m=\u001b[39m \u001b[43mge\u001b[49m\u001b[38;5;241;43m.\u001b[39;49m\u001b[43mdataset\u001b[49m\u001b[38;5;241;43m.\u001b[39;49m\u001b[43mSparkDFDataset\u001b[49m\u001b[43m(\u001b[49m\u001b[43mdf\u001b[49m\u001b[43m)\u001b[49m\n",
      "File \u001b[0;32m~/opt/anaconda3/lib/python3.9/site-packages/great_expectations/dataset/sparkdf_dataset.py:617\u001b[0m, in \u001b[0;36mSparkDFDataset.__init__\u001b[0;34m(self, spark_df, *args, **kwargs)\u001b[0m\n\u001b[1;32m    615\u001b[0m \u001b[38;5;28mself\u001b[39m\u001b[38;5;241m.\u001b[39m_persist \u001b[38;5;241m=\u001b[39m kwargs\u001b[38;5;241m.\u001b[39mpop(\u001b[38;5;124m\"\u001b[39m\u001b[38;5;124mpersist\u001b[39m\u001b[38;5;124m\"\u001b[39m, \u001b[38;5;28;01mTrue\u001b[39;00m)\n\u001b[1;32m    616\u001b[0m \u001b[38;5;28;01mif\u001b[39;00m \u001b[38;5;28mself\u001b[39m\u001b[38;5;241m.\u001b[39m_persist:\n\u001b[0;32m--> 617\u001b[0m     \u001b[38;5;28;43mself\u001b[39;49m\u001b[38;5;241;43m.\u001b[39;49m\u001b[43mspark_df\u001b[49m\u001b[38;5;241;43m.\u001b[39;49m\u001b[43mpersist\u001b[49m\u001b[43m(\u001b[49m\u001b[43m)\u001b[49m\n\u001b[1;32m    618\u001b[0m \u001b[38;5;28msuper\u001b[39m()\u001b[38;5;241m.\u001b[39m\u001b[38;5;21m__init__\u001b[39m(\u001b[38;5;241m*\u001b[39margs, \u001b[38;5;241m*\u001b[39m\u001b[38;5;241m*\u001b[39mkwargs)\n",
      "File \u001b[0;32m~/opt/anaconda3/lib/python3.9/site-packages/pyspark/sql/dataframe.py:949\u001b[0m, in \u001b[0;36mDataFrame.persist\u001b[0;34m(self, storageLevel)\u001b[0m\n\u001b[1;32m    947\u001b[0m \u001b[38;5;28mself\u001b[39m\u001b[38;5;241m.\u001b[39mis_cached \u001b[38;5;241m=\u001b[39m \u001b[38;5;28;01mTrue\u001b[39;00m\n\u001b[1;32m    948\u001b[0m javaStorageLevel \u001b[38;5;241m=\u001b[39m \u001b[38;5;28mself\u001b[39m\u001b[38;5;241m.\u001b[39m_sc\u001b[38;5;241m.\u001b[39m_getJavaStorageLevel(storageLevel)\n\u001b[0;32m--> 949\u001b[0m \u001b[38;5;28;43mself\u001b[39;49m\u001b[38;5;241;43m.\u001b[39;49m\u001b[43m_jdf\u001b[49m\u001b[38;5;241;43m.\u001b[39;49m\u001b[43mpersist\u001b[49m\u001b[43m(\u001b[49m\u001b[43mjavaStorageLevel\u001b[49m\u001b[43m)\u001b[49m\n\u001b[1;32m    950\u001b[0m \u001b[38;5;28;01mreturn\u001b[39;00m \u001b[38;5;28mself\u001b[39m\n",
      "File \u001b[0;32m~/opt/anaconda3/lib/python3.9/site-packages/py4j/java_gateway.py:1321\u001b[0m, in \u001b[0;36mJavaMember.__call__\u001b[0;34m(self, *args)\u001b[0m\n\u001b[1;32m   1315\u001b[0m command \u001b[38;5;241m=\u001b[39m proto\u001b[38;5;241m.\u001b[39mCALL_COMMAND_NAME \u001b[38;5;241m+\u001b[39m\\\n\u001b[1;32m   1316\u001b[0m     \u001b[38;5;28mself\u001b[39m\u001b[38;5;241m.\u001b[39mcommand_header \u001b[38;5;241m+\u001b[39m\\\n\u001b[1;32m   1317\u001b[0m     args_command \u001b[38;5;241m+\u001b[39m\\\n\u001b[1;32m   1318\u001b[0m     proto\u001b[38;5;241m.\u001b[39mEND_COMMAND_PART\n\u001b[1;32m   1320\u001b[0m answer \u001b[38;5;241m=\u001b[39m \u001b[38;5;28mself\u001b[39m\u001b[38;5;241m.\u001b[39mgateway_client\u001b[38;5;241m.\u001b[39msend_command(command)\n\u001b[0;32m-> 1321\u001b[0m return_value \u001b[38;5;241m=\u001b[39m \u001b[43mget_return_value\u001b[49m\u001b[43m(\u001b[49m\n\u001b[1;32m   1322\u001b[0m \u001b[43m    \u001b[49m\u001b[43manswer\u001b[49m\u001b[43m,\u001b[49m\u001b[43m \u001b[49m\u001b[38;5;28;43mself\u001b[39;49m\u001b[38;5;241;43m.\u001b[39;49m\u001b[43mgateway_client\u001b[49m\u001b[43m,\u001b[49m\u001b[43m \u001b[49m\u001b[38;5;28;43mself\u001b[39;49m\u001b[38;5;241;43m.\u001b[39;49m\u001b[43mtarget_id\u001b[49m\u001b[43m,\u001b[49m\u001b[43m \u001b[49m\u001b[38;5;28;43mself\u001b[39;49m\u001b[38;5;241;43m.\u001b[39;49m\u001b[43mname\u001b[49m\u001b[43m)\u001b[49m\n\u001b[1;32m   1324\u001b[0m \u001b[38;5;28;01mfor\u001b[39;00m temp_arg \u001b[38;5;129;01min\u001b[39;00m temp_args:\n\u001b[1;32m   1325\u001b[0m     temp_arg\u001b[38;5;241m.\u001b[39m_detach()\n",
      "File \u001b[0;32m~/opt/anaconda3/lib/python3.9/site-packages/pyspark/sql/utils.py:190\u001b[0m, in \u001b[0;36mcapture_sql_exception.<locals>.deco\u001b[0;34m(*a, **kw)\u001b[0m\n\u001b[1;32m    188\u001b[0m \u001b[38;5;28;01mdef\u001b[39;00m \u001b[38;5;21mdeco\u001b[39m(\u001b[38;5;241m*\u001b[39ma: Any, \u001b[38;5;241m*\u001b[39m\u001b[38;5;241m*\u001b[39mkw: Any) \u001b[38;5;241m-\u001b[39m\u001b[38;5;241m>\u001b[39m Any:\n\u001b[1;32m    189\u001b[0m     \u001b[38;5;28;01mtry\u001b[39;00m:\n\u001b[0;32m--> 190\u001b[0m         \u001b[38;5;28;01mreturn\u001b[39;00m \u001b[43mf\u001b[49m\u001b[43m(\u001b[49m\u001b[38;5;241;43m*\u001b[39;49m\u001b[43ma\u001b[49m\u001b[43m,\u001b[49m\u001b[43m \u001b[49m\u001b[38;5;241;43m*\u001b[39;49m\u001b[38;5;241;43m*\u001b[39;49m\u001b[43mkw\u001b[49m\u001b[43m)\u001b[49m\n\u001b[1;32m    191\u001b[0m     \u001b[38;5;28;01mexcept\u001b[39;00m Py4JJavaError \u001b[38;5;28;01mas\u001b[39;00m e:\n\u001b[1;32m    192\u001b[0m         converted \u001b[38;5;241m=\u001b[39m convert_exception(e\u001b[38;5;241m.\u001b[39mjava_exception)\n",
      "File \u001b[0;32m~/opt/anaconda3/lib/python3.9/site-packages/py4j/protocol.py:326\u001b[0m, in \u001b[0;36mget_return_value\u001b[0;34m(answer, gateway_client, target_id, name)\u001b[0m\n\u001b[1;32m    324\u001b[0m value \u001b[38;5;241m=\u001b[39m OUTPUT_CONVERTER[\u001b[38;5;28mtype\u001b[39m](answer[\u001b[38;5;241m2\u001b[39m:], gateway_client)\n\u001b[1;32m    325\u001b[0m \u001b[38;5;28;01mif\u001b[39;00m answer[\u001b[38;5;241m1\u001b[39m] \u001b[38;5;241m==\u001b[39m REFERENCE_TYPE:\n\u001b[0;32m--> 326\u001b[0m     \u001b[38;5;28;01mraise\u001b[39;00m Py4JJavaError(\n\u001b[1;32m    327\u001b[0m         \u001b[38;5;124m\"\u001b[39m\u001b[38;5;124mAn error occurred while calling \u001b[39m\u001b[38;5;132;01m{0}\u001b[39;00m\u001b[38;5;132;01m{1}\u001b[39;00m\u001b[38;5;132;01m{2}\u001b[39;00m\u001b[38;5;124m.\u001b[39m\u001b[38;5;130;01m\\n\u001b[39;00m\u001b[38;5;124m\"\u001b[39m\u001b[38;5;241m.\u001b[39m\n\u001b[1;32m    328\u001b[0m         \u001b[38;5;28mformat\u001b[39m(target_id, \u001b[38;5;124m\"\u001b[39m\u001b[38;5;124m.\u001b[39m\u001b[38;5;124m\"\u001b[39m, name), value)\n\u001b[1;32m    329\u001b[0m \u001b[38;5;28;01melse\u001b[39;00m:\n\u001b[1;32m    330\u001b[0m     \u001b[38;5;28;01mraise\u001b[39;00m Py4JError(\n\u001b[1;32m    331\u001b[0m         \u001b[38;5;124m\"\u001b[39m\u001b[38;5;124mAn error occurred while calling \u001b[39m\u001b[38;5;132;01m{0}\u001b[39;00m\u001b[38;5;132;01m{1}\u001b[39;00m\u001b[38;5;132;01m{2}\u001b[39;00m\u001b[38;5;124m. Trace:\u001b[39m\u001b[38;5;130;01m\\n\u001b[39;00m\u001b[38;5;132;01m{3}\u001b[39;00m\u001b[38;5;130;01m\\n\u001b[39;00m\u001b[38;5;124m\"\u001b[39m\u001b[38;5;241m.\u001b[39m\n\u001b[1;32m    332\u001b[0m         \u001b[38;5;28mformat\u001b[39m(target_id, \u001b[38;5;124m\"\u001b[39m\u001b[38;5;124m.\u001b[39m\u001b[38;5;124m\"\u001b[39m, name, value))\n",
      "\u001b[0;31mPy4JJavaError\u001b[0m: An error occurred while calling o33.persist.\n: java.lang.IllegalStateException: Cannot call methods on a stopped SparkContext.\nThis stopped SparkContext was created at:\n\norg.apache.spark.api.java.JavaSparkContext.<init>(JavaSparkContext.scala:58)\nsun.reflect.NativeConstructorAccessorImpl.newInstance0(Native Method)\nsun.reflect.NativeConstructorAccessorImpl.newInstance(NativeConstructorAccessorImpl.java:62)\nsun.reflect.DelegatingConstructorAccessorImpl.newInstance(DelegatingConstructorAccessorImpl.java:45)\njava.lang.reflect.Constructor.newInstance(Constructor.java:423)\npy4j.reflection.MethodInvoker.invoke(MethodInvoker.java:247)\npy4j.reflection.ReflectionEngine.invoke(ReflectionEngine.java:357)\npy4j.Gateway.invoke(Gateway.java:238)\npy4j.commands.ConstructorCommand.invokeConstructor(ConstructorCommand.java:80)\npy4j.commands.ConstructorCommand.execute(ConstructorCommand.java:69)\npy4j.ClientServerConnection.waitForCommands(ClientServerConnection.java:182)\npy4j.ClientServerConnection.run(ClientServerConnection.java:106)\njava.lang.Thread.run(Thread.java:748)\n\nThe currently active SparkContext was created at:\n\norg.apache.spark.api.java.JavaSparkContext.<init>(JavaSparkContext.scala:58)\nsun.reflect.NativeConstructorAccessorImpl.newInstance0(Native Method)\nsun.reflect.NativeConstructorAccessorImpl.newInstance(NativeConstructorAccessorImpl.java:62)\nsun.reflect.DelegatingConstructorAccessorImpl.newInstance(DelegatingConstructorAccessorImpl.java:45)\njava.lang.reflect.Constructor.newInstance(Constructor.java:423)\npy4j.reflection.MethodInvoker.invoke(MethodInvoker.java:247)\npy4j.reflection.ReflectionEngine.invoke(ReflectionEngine.java:357)\npy4j.Gateway.invoke(Gateway.java:238)\npy4j.commands.ConstructorCommand.invokeConstructor(ConstructorCommand.java:80)\npy4j.commands.ConstructorCommand.execute(ConstructorCommand.java:69)\npy4j.ClientServerConnection.waitForCommands(ClientServerConnection.java:182)\npy4j.ClientServerConnection.run(ClientServerConnection.java:106)\njava.lang.Thread.run(Thread.java:748)\n         \n\tat org.apache.spark.SparkContext.assertNotStopped(SparkContext.scala:120)\n\tat org.apache.spark.sql.SparkSession.<init>(SparkSession.scala:113)\n\tat org.apache.spark.sql.SparkSession.cloneSession(SparkSession.scala:276)\n\tat org.apache.spark.sql.SparkSession$.getOrCloneSessionWithConfigsOff(SparkSession.scala:1111)\n\tat org.apache.spark.sql.execution.CacheManager.getOrCloneSessionWithConfigsOff(CacheManager.scala:338)\n\tat org.apache.spark.sql.execution.CacheManager.cacheQuery(CacheManager.scala:118)\n\tat org.apache.spark.sql.execution.CacheManager.cacheQuery(CacheManager.scala:92)\n\tat org.apache.spark.sql.Dataset.persist(Dataset.scala:3342)\n\tat sun.reflect.NativeMethodAccessorImpl.invoke0(Native Method)\n\tat sun.reflect.NativeMethodAccessorImpl.invoke(NativeMethodAccessorImpl.java:62)\n\tat sun.reflect.DelegatingMethodAccessorImpl.invoke(DelegatingMethodAccessorImpl.java:43)\n\tat java.lang.reflect.Method.invoke(Method.java:498)\n\tat py4j.reflection.MethodInvoker.invoke(MethodInvoker.java:244)\n\tat py4j.reflection.ReflectionEngine.invoke(ReflectionEngine.java:357)\n\tat py4j.Gateway.invoke(Gateway.java:282)\n\tat py4j.commands.AbstractCommand.invokeMethod(AbstractCommand.java:132)\n\tat py4j.commands.CallCommand.execute(CallCommand.java:79)\n\tat py4j.ClientServerConnection.waitForCommands(ClientServerConnection.java:182)\n\tat py4j.ClientServerConnection.run(ClientServerConnection.java:106)\n\tat java.lang.Thread.run(Thread.java:748)\n"
     ]
    }
   ],
   "source": [
    "# read the df\n",
    "\n",
    "# gdf = ge.from_pandas(df)\n",
    "gdf = ge.dataset.SparkDFDataset(df)\n",
    "# gdf = SparkDFDataset(df)\n",
    "# expectation_suite, validation_result = BasicDatasetProfiler.profile(gdf,profiler_configuration=scaffold_config)\n",
    "# document_model = ProfilingResultsPageRenderer().render(validation_result)\n",
    "# os.makedirs(os.path.dirname(profiling_html_filepath), exist_ok=True)\n",
    "# with open(profiling_html_filepath, 'w') as writer:\n",
    "#     writer.write(DefaultJinjaPageView.render(document_model))\n",
    "# display(HTML(DefaultJinjaPageView().render(document_model)))\n",
    "\n",
    "\n"
   ]
  },
  {
   "cell_type": "code",
   "execution_count": 43,
   "id": "850bc971",
   "metadata": {},
   "outputs": [
    {
     "name": "stdout",
     "output_type": "stream",
     "text": [
      "Unexpected exception formatting exception. Falling back to standard exception\n"
     ]
    },
    {
     "name": "stderr",
     "output_type": "stream",
     "text": [
      "Traceback (most recent call last):\n",
      "  File \"/Users/vikashgarg/opt/anaconda3/lib/python3.9/site-packages/IPython/core/interactiveshell.py\", line 3397, in run_code\n",
      "    exec(code_obj, self.user_global_ns, self.user_ns)\n",
      "  File \"/var/folders/m7/6z2yy72x74j_x3643mybw9s80000gn/T/ipykernel_1197/3584603313.py\", line 1, in <cell line: 1>\n",
      "    gdf.expect_column_values_to_be_unique(column=\"ID\")\n",
      "  File \"/Users/vikashgarg/opt/anaconda3/lib/python3.9/site-packages/great_expectations/data_asset/util.py\", line 76, in f\n",
      "    return self.mthd(obj, *args, **kwargs)\n",
      "  File \"/Users/vikashgarg/opt/anaconda3/lib/python3.9/site-packages/great_expectations/data_asset/data_asset.py\", line 289, in wrapper\n",
      "  File \"/Users/vikashgarg/opt/anaconda3/lib/python3.9/site-packages/great_expectations/data_asset/data_asset.py\", line 276, in wrapper\n",
      "    if isinstance(return_obj, dict):\n",
      "  File \"/Users/vikashgarg/opt/anaconda3/lib/python3.9/site-packages/great_expectations/dataset/sparkdf_dataset.py\", line 99, in inner_wrapper\n",
      "    self.spark_df = self.spark_df.withColumn(eval_col, col(column))\n",
      "  File \"/Users/vikashgarg/opt/anaconda3/lib/python3.9/site-packages/pyspark/sql/dataframe.py\", line 3036, in withColumn\n",
      "    return DataFrame(self._jdf.withColumn(colName, col._jc), self.sparkSession)\n",
      "  File \"/Users/vikashgarg/opt/anaconda3/lib/python3.9/site-packages/py4j/java_gateway.py\", line 1321, in __call__\n",
      "    return_value = get_return_value(\n",
      "  File \"/Users/vikashgarg/opt/anaconda3/lib/python3.9/site-packages/pyspark/sql/utils.py\", line 196, in deco\n",
      "    raise converted from None\n",
      "pyspark.sql.utils.AnalysisException: Column 'ID' does not exist. Did you mean one of the following? [age, name, email, gender,                ID];\n",
      "'Project [               ID#951, name#952, age#953, gender#954, email#955, 'ID AS __eval_col_ID#1456]\n",
      "+- Relation [               ID#951,name#952,age#953,gender#954,email#955] csv\n",
      "\n",
      "\n",
      "During handling of the above exception, another exception occurred:\n",
      "\n",
      "Traceback (most recent call last):\n",
      "  File \"/Users/vikashgarg/opt/anaconda3/lib/python3.9/site-packages/IPython/core/interactiveshell.py\", line 1992, in showtraceback\n",
      "    stb = self.InteractiveTB.structured_traceback(\n",
      "  File \"/Users/vikashgarg/opt/anaconda3/lib/python3.9/site-packages/IPython/core/ultratb.py\", line 1118, in structured_traceback\n",
      "    return FormattedTB.structured_traceback(\n",
      "  File \"/Users/vikashgarg/opt/anaconda3/lib/python3.9/site-packages/IPython/core/ultratb.py\", line 1012, in structured_traceback\n",
      "    return VerboseTB.structured_traceback(\n",
      "  File \"/Users/vikashgarg/opt/anaconda3/lib/python3.9/site-packages/IPython/core/ultratb.py\", line 865, in structured_traceback\n",
      "    formatted_exception = self.format_exception_as_a_whole(etype, evalue, etb, number_of_lines_of_context,\n",
      "  File \"/Users/vikashgarg/opt/anaconda3/lib/python3.9/site-packages/IPython/core/ultratb.py\", line 818, in format_exception_as_a_whole\n",
      "    frames.append(self.format_record(r))\n",
      "  File \"/Users/vikashgarg/opt/anaconda3/lib/python3.9/site-packages/IPython/core/ultratb.py\", line 736, in format_record\n",
      "    result += ''.join(_format_traceback_lines(frame_info.lines, Colors, self.has_colors, lvals))\n",
      "  File \"/Users/vikashgarg/opt/anaconda3/lib/python3.9/site-packages/stack_data/utils.py\", line 145, in cached_property_wrapper\n",
      "    value = obj.__dict__[self.func.__name__] = self.func(obj)\n",
      "  File \"/Users/vikashgarg/opt/anaconda3/lib/python3.9/site-packages/stack_data/core.py\", line 698, in lines\n",
      "    pieces = self.included_pieces\n",
      "  File \"/Users/vikashgarg/opt/anaconda3/lib/python3.9/site-packages/stack_data/utils.py\", line 145, in cached_property_wrapper\n",
      "    value = obj.__dict__[self.func.__name__] = self.func(obj)\n",
      "  File \"/Users/vikashgarg/opt/anaconda3/lib/python3.9/site-packages/stack_data/core.py\", line 649, in included_pieces\n",
      "    pos = scope_pieces.index(self.executing_piece)\n",
      "  File \"/Users/vikashgarg/opt/anaconda3/lib/python3.9/site-packages/stack_data/utils.py\", line 145, in cached_property_wrapper\n",
      "    value = obj.__dict__[self.func.__name__] = self.func(obj)\n",
      "  File \"/Users/vikashgarg/opt/anaconda3/lib/python3.9/site-packages/stack_data/core.py\", line 628, in executing_piece\n",
      "    return only(\n",
      "  File \"/Users/vikashgarg/opt/anaconda3/lib/python3.9/site-packages/executing/executing.py\", line 164, in only\n",
      "    raise NotOneValueFound('Expected one value, found 0')\n",
      "executing.executing.NotOneValueFound: Expected one value, found 0\n"
     ]
    },
    {
     "name": "stdout",
     "output_type": "stream",
     "text": [
      "22/12/10 06:54:42 WARN HeartbeatReceiver: Removing executor driver with no recent heartbeats: 910944 ms exceeds timeout 120000 ms\n",
      "22/12/10 06:54:42 WARN SparkContext: Killing executors is not supported by current scheduler.\n"
     ]
    }
   ],
   "source": [
    "gdf.expect_column_values_to_be_unique(column=\"ID\")"
   ]
  },
  {
   "cell_type": "code",
   "execution_count": null,
   "id": "a8df6abe",
   "metadata": {},
   "outputs": [],
   "source": []
  }
 ],
 "metadata": {
  "kernelspec": {
   "display_name": "Python 3 (ipykernel)",
   "language": "python",
   "name": "python3"
  },
  "language_info": {
   "codemirror_mode": {
    "name": "ipython",
    "version": 3
   },
   "file_extension": ".py",
   "mimetype": "text/x-python",
   "name": "python",
   "nbconvert_exporter": "python",
   "pygments_lexer": "ipython3",
   "version": "3.9.12"
  }
 },
 "nbformat": 4,
 "nbformat_minor": 5
}
